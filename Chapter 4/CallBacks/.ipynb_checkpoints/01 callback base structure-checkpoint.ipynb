{
 "cells": [
  {
   "cell_type": "code",
   "execution_count": 1,
   "id": "9a322b98-415d-4fc5-97eb-ccbee9833f9e",
   "metadata": {},
   "outputs": [
    {
     "data": {
      "text/plain": [
       "True"
      ]
     },
     "execution_count": 1,
     "metadata": {},
     "output_type": "execute_result"
    }
   ],
   "source": [
    "import os\n",
    "from dotenv import load_dotenv\n",
    "\n",
    "# 加载 .env 文件中的环境变量\n",
    "load_dotenv()"
   ]
  },
  {
   "cell_type": "code",
   "execution_count": 2,
   "id": "06b70dd3-fdb8-45b5-91ef-27e8b763c8c9",
   "metadata": {},
   "outputs": [
    {
     "name": "stderr",
     "output_type": "stream",
     "text": [
      "/var/folders/rq/kthvngcn3r769fzgn106ymd00000gn/T/ipykernel_30675/126276031.py:38: LangChainDeprecationWarning: The class `LLMChain` was deprecated in LangChain 0.1.17 and will be removed in 1.0. Use :meth:`~RunnableSequence, e.g., `prompt | llm`` instead.\n",
      "  chain = LLMChain(llm=llm, prompt=prompt, callbacks=[callback_manager])\n"
     ]
    },
    {
     "name": "stdout",
     "output_type": "stream",
     "text": [
      "Chain operation is starting...\n",
      "Chain operation has ended.\n"
     ]
    },
    {
     "data": {
      "text/plain": [
       "{'product': '男装',\n",
       " 'text': '年度总结：2023年男装生产公司\\n\\n尊敬的董事会成员、股东及全体员工：\\n\\n在此，我们怀着感激与自豪的心情总结2023年度的工作。这一年，我们在市场竞争激烈、经济环境复杂多变的情况下，依然取得了显著的成绩。这离不开每一位员工的辛勤付出和全体合作伙伴的鼎力支持。\\n\\n### 一、市场表现\\n\\n1. **销售增长**：2023年，我们的销售额同比增长了15%。这一增长主要得益于我们在产品创新、市场拓展和品牌建设方面的持续努力。\\n   \\n2. **市场份额**：在国内市场，我们的品牌影响力进一步提升，市场份额增加了2个百分点。同时，我们在国际市场的拓展也取得了突破，特别是在东南亚和欧洲市场，销售额实现了双位数增长。\\n\\n### 二、产品创新\\n\\n1. **新品发布**：今年，我们成功推出了三大系列新品，涵盖商务、休闲和运动风格。这些新品不仅在设计上紧跟潮流，更在面料和工艺上实现了突破，受到了市场的热烈欢迎。\\n\\n2. **可持续发展**：我们加大了对环保材料的研发和应用，推出了一系列可持续发展的产品，赢得了消费者的认可和好评。\\n\\n### 三、生产与供应链\\n\\n1. **生产效率**：通过引入先进的生产设备和优化生产流程，我们的生产效率提高了20%，产品质量也得到了进一步提升。\\n\\n2. **供应链管理**：我们加强了与供应商的合作，优化了供应链管理，确保了原材料的稳定供应和成本的有效控制。\\n\\n### 四、品牌建设\\n\\n1. **品牌推广**：我们加大了品牌推广力度，通过线上线下多渠道营销，提升了品牌知名度和美誉度。\\n\\n2. **客户关系**：我们注重与客户的互动，通过社交媒体和客户反馈机制，及时了解市场需求和客户意见，不断改进产品和服务。\\n\\n### 五、未来展望\\n\\n展望2024年，我们将继续坚持创新驱动和可持续发展战略，进一步提升产品竞争力和品牌影响力。我们计划加大对新兴市场的开拓力度，同时继续优化生产和供应链管理，以实现更高效的运营。\\n\\n最后，感谢每一位员工的努力和奉献，感谢所有合作伙伴的支持与信任。让我们携手共进，迎接更加辉煌的明天。\\n\\n祝愿大家在新的一年里身体健康，工作顺利！\\n\\n此致，\\n\\n[公司名称]  \\n[日期]'}"
      ]
     },
     "execution_count": 2,
     "metadata": {},
     "output_type": "execute_result"
    }
   ],
   "source": [
    "from langchain_core.callbacks.manager import BaseCallbackHandler\n",
    "from langchain_openai import ChatOpenAI\n",
    "from langchain.prompts import PromptTemplate\n",
    "from langchain.chains import LLMChain\n",
    "\n",
    "llm = ChatOpenAI(model=\"gpt-4o\", temperature=0.0)\n",
    "prompt = PromptTemplate.from_template(\"给生产{product}的公司写一个年度总结\")\n",
    "\n",
    "class MyCustomCallback(BaseCallbackHandler):\n",
    "    def on_llm_start(self, serialized, prompts, **kwargs):\n",
    "        # 当 LLM 开始处理时调用\n",
    "        print(\"LLM is starting...\")\n",
    "\n",
    "    def on_llm_end(self, response, **kwargs):\n",
    "        # 当 LLM 处理完成时调用\n",
    "        print(\"LLM has finished processing.\")\n",
    "\n",
    "    def on_tool_start(self, tool, input, **kwargs):\n",
    "        # 当工具开始执行时调用\n",
    "        print(f\"Tool '{tool.name}' is starting with input: {input}\")\n",
    "\n",
    "    def on_tool_end(self, output, **kwargs):\n",
    "        # 当工具执行完毕时调用\n",
    "        print(f\"Tool has finished with output: {output}\")\n",
    "\n",
    "    def on_chain_start(self, serialized, inputs, **kwargs):\n",
    "        # 当链式操作开始时调用\n",
    "        print(\"Chain operation is starting...\")\n",
    "\n",
    "    def on_chain_end(self, outputs, **kwargs):\n",
    "        # 当链式操作结束时调用\n",
    "        print(\"Chain operation has ended.\")\n",
    "\n",
    "# 创建回调管理器并添加自定义回调\n",
    "callback_manager = MyCustomCallback()\n",
    "\n",
    "# 在构造器中使用回调处理器\n",
    "chain = LLMChain(llm=llm, prompt=prompt, callbacks=[callback_manager])\n",
    "\n",
    "# 运行构造器中定义的回调\n",
    "chain.invoke({\"product\": \"男装\"})"
   ]
  }
 ],
 "metadata": {
  "kernelspec": {
   "display_name": "rag_book",
   "language": "python",
   "name": "rag_book"
  },
  "language_info": {
   "codemirror_mode": {
    "name": "ipython",
    "version": 3
   },
   "file_extension": ".py",
   "mimetype": "text/x-python",
   "name": "python",
   "nbconvert_exporter": "python",
   "pygments_lexer": "ipython3",
   "version": "3.11.11"
  }
 },
 "nbformat": 4,
 "nbformat_minor": 5
}
