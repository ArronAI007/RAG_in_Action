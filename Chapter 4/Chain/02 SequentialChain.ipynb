{
 "cells": [
  {
   "cell_type": "code",
   "execution_count": 1,
   "id": "4781fba9-3f5e-4d9b-9c28-87c8b3dd8ca5",
   "metadata": {},
   "outputs": [],
   "source": [
    "import os\n",
    "from dotenv import load_dotenv\n",
    "from langchain.chains import LLMChain, SequentialChain\n",
    "from langchain.prompts import PromptTemplate\n",
    "from langchain_openai import ChatOpenAI"
   ]
  },
  {
   "cell_type": "code",
   "execution_count": 2,
   "id": "5f609f4a-5d31-4641-81ab-118cad1224ec",
   "metadata": {},
   "outputs": [
    {
     "data": {
      "text/plain": [
       "True"
      ]
     },
     "execution_count": 2,
     "metadata": {},
     "output_type": "execute_result"
    }
   ],
   "source": [
    "# 加载 .env 文件中的环境变量\n",
    "load_dotenv()"
   ]
  },
  {
   "cell_type": "markdown",
   "id": "e23aec5a-3240-4770-ba2a-bd1caf1df349",
   "metadata": {},
   "source": [
    "# 创建提示模板"
   ]
  },
  {
   "cell_type": "code",
   "execution_count": 3,
   "id": "d67d650e-9cfc-4226-b0aa-0fd7207c1c6e",
   "metadata": {},
   "outputs": [
    {
     "name": "stderr",
     "output_type": "stream",
     "text": [
      "/var/folders/rq/kthvngcn3r769fzgn106ymd00000gn/T/ipykernel_88654/2543023637.py:12: LangChainDeprecationWarning: The class `LLMChain` was deprecated in LangChain 0.1.17 and will be removed in 1.0. Use :meth:`~RunnableSequence, e.g., `prompt | llm`` instead.\n",
      "  introduction_chain = LLMChain(\n"
     ]
    }
   ],
   "source": [
    "# 第一个 LLMChain：生成鲜花的介绍\n",
    "llm = ChatOpenAI(\n",
    "    temperature=0.0,\n",
    "    model=\"gpt-4o\",\n",
    ")\n",
    "template = \"\"\"\n",
    "你是一个植物学家。给定花的名称和颜色，你需要为这种花写一个200字左右的介绍。\n",
    "花名: {name}\n",
    "颜色: {color}\n",
    "植物学家: 这是关于上述花的介绍:\"\"\"\n",
    "prompt_template = PromptTemplate(input_variables=[\"name\", \"color\"], template=template)\n",
    "introduction_chain = LLMChain(\n",
    "    llm=llm, prompt=prompt_template, output_key=\"introduction\"\n",
    ")\n",
    "\n",
    "# 第二个 LLMChain：根据鲜花的介绍写出评论\n",
    "template = \"\"\"\n",
    "你是一位鲜花评论家。给定一种花的介绍，你需要为这种花写一篇200字左右的评论。\n",
    "鲜花介绍:\n",
    "{introduction}\n",
    "花评人对上述花的评论:\"\"\"\n",
    "prompt_template = PromptTemplate(input_variables=[\"introduction\"], template=template)\n",
    "review_chain = LLMChain(llm=llm, prompt=prompt_template, output_key=\"review\")\n",
    "\n",
    "# 第三个 LLMChain：根据介绍和评论写出社交媒体的文案\n",
    "template = \"\"\"\n",
    "你是一家花店的社交媒体经理。给定一种花的介绍和评论，你需要为这种花写一篇社交媒体的帖子，300字左右。\n",
    "鲜花介绍:\n",
    "{introduction}\n",
    "花评人对上述花的评论:\n",
    "{review}\n",
    "社交媒体帖子:\n",
    "\"\"\"\n",
    "prompt_template = PromptTemplate(\n",
    "    input_variables=[\"introduction\", \"review\"], template=template\n",
    ")\n",
    "social_post_chain = LLMChain(\n",
    "    llm=llm, prompt=prompt_template, output_key=\"social_post_text\"\n",
    ")"
   ]
  },
  {
   "cell_type": "markdown",
   "id": "99ad1f91-7ba5-46c9-8eab-8645a0b0ffcb",
   "metadata": {},
   "source": [
    "# 创建 SequentialChain 实例"
   ]
  },
  {
   "cell_type": "code",
   "execution_count": 4,
   "id": "c8e5d8ef-b1fb-489f-a25e-a19f279edd06",
   "metadata": {},
   "outputs": [],
   "source": [
    "# 总的链：按顺序运行三个链\n",
    "overall_chain = SequentialChain(\n",
    "    chains=[introduction_chain, review_chain, social_post_chain],\n",
    "    input_variables=[\"name\", \"color\"],\n",
    "    output_variables=[\"introduction\", \"review\", \"social_post_text\"],\n",
    "    verbose=True,\n",
    ")"
   ]
  },
  {
   "cell_type": "markdown",
   "id": "ae43f2a9-d4ec-4061-a883-2e817c7ce038",
   "metadata": {},
   "source": [
    "# 调用链并获取结果"
   ]
  },
  {
   "cell_type": "code",
   "execution_count": 5,
   "id": "db490b52-10bc-4c4a-bc73-c061f93ad175",
   "metadata": {},
   "outputs": [
    {
     "name": "stderr",
     "output_type": "stream",
     "text": [
      "/var/folders/rq/kthvngcn3r769fzgn106ymd00000gn/T/ipykernel_88654/1129383433.py:2: LangChainDeprecationWarning: The method `Chain.__call__` was deprecated in langchain 0.1.0 and will be removed in 1.0. Use :meth:`~invoke` instead.\n",
      "  result = overall_chain({\"name\": \"玫瑰\", \"color\": \"黑色\"})\n"
     ]
    },
    {
     "name": "stdout",
     "output_type": "stream",
     "text": [
      "\n",
      "\n",
      "\u001b[1m> Entering new SequentialChain chain...\u001b[0m\n",
      "\n",
      "\u001b[1m> Finished chain.\u001b[0m\n",
      "{'name': '玫瑰', 'color': '黑色', 'introduction': '黑色玫瑰是一种神秘而罕见的花卉，常常被赋予深刻的象征意义。尽管自然界中并不存在真正的黑色玫瑰，但通过特殊的栽培技术和光线的巧妙运用，深红色或紫色的玫瑰可以呈现出近似黑色的效果。黑色玫瑰通常被视为力量、神秘和优雅的象征，同时也可能代表告别或新的开始。\\n\\n在植物学上，玫瑰属于蔷薇科，是一种多年生灌木。它们以其美丽的花朵和浓郁的香气而闻名，广泛用于园艺和花艺设计。黑色玫瑰的培育需要精心的照料和适宜的生长环境，包括充足的阳光、良好的排水和适当的修剪。\\n\\n黑色玫瑰在文学和艺术中也占有一席之地，常常被用来表达复杂的情感和深刻的主题。无论是在花园中还是在花束中，黑色玫瑰都能为观赏者带来一种独特的视觉冲击和情感体验。它们不仅是自然界的奇迹，也是人类创造力的体现。', 'review': '黑色玫瑰，这种神秘而罕见的花卉，仿佛是大自然与人类智慧共同创造的奇迹。尽管在自然界中并不存在真正的黑色玫瑰，但通过精湛的栽培技术和光线的巧妙运用，使得深红色或紫色的玫瑰呈现出近似黑色的效果，这无疑是园艺学上的一大成就。黑色玫瑰不仅以其独特的色彩吸引眼球，更因其深刻的象征意义而令人着迷。它们常被视为力量、神秘和优雅的象征，同时也可能代表告别或新的开始，这种多重的象征意义使其在文学和艺术中占据了重要地位。\\n\\n在园艺设计中，黑色玫瑰以其独特的视觉冲击力，为花园和花束增添了一份神秘而高贵的气息。它们的培育需要精心的照料，充足的阳光、良好的排水和适当的修剪都是必不可少的条件，这也使得黑色玫瑰成为园艺爱好者心目中的珍品。无论是在花园中静静绽放，还是在花束中成为焦点，黑色玫瑰都能为观赏者带来一种独特的情感体验。它们不仅是自然界的奇迹，更是人类创造力的体现，值得我们为之倾倒和赞美。', 'social_post_text': '🌹✨ 探索神秘与优雅的化身——黑色玫瑰 ✨🌹\\n\\n在花卉的世界中，黑色玫瑰无疑是一个令人着迷的存在。尽管自然界中并不存在真正的黑色玫瑰，但通过精湛的栽培技术和光线的巧妙运用，我们得以欣赏到这接近黑色的深红或紫色玫瑰。这种花卉不仅以其独特的色彩吸引眼球，更因其深刻的象征意义而令人神往。\\n\\n黑色玫瑰常被视为力量、神秘和优雅的象征，同时也可能代表告别或新的开始。这种多重的象征意义使其在文学和艺术中占据了重要地位。无论是在花园中静静绽放，还是在花束中成为焦点，黑色玫瑰都能为观赏者带来一种独特的视觉冲击和情感体验。\\n\\n在园艺设计中，黑色玫瑰以其独特的视觉冲击力，为花园和花束增添了一份神秘而高贵的气息。它们的培育需要精心的照料，充足的阳光、良好的排水和适当的修剪都是必不可少的条件。这也使得黑色玫瑰成为园艺爱好者心目中的珍品。\\n\\n让我们一起为这种自然与人类智慧共同创造的奇迹倾倒，感受黑色玫瑰带来的神秘与优雅。无论是作为礼物还是自我欣赏，黑色玫瑰都将是您不容错过的选择。🌹💫\\n\\n#黑色玫瑰 #神秘优雅 #花卉艺术 #园艺奇迹 #花艺设计'}\n"
     ]
    }
   ],
   "source": [
    "# 运行链并打印结果\n",
    "result = overall_chain({\"name\": \"玫瑰\", \"color\": \"黑色\"})\n",
    "print(result)"
   ]
  },
  {
   "cell_type": "code",
   "execution_count": null,
   "id": "e7b48a66-9fbd-41ff-b6aa-32afd31c30d7",
   "metadata": {},
   "outputs": [],
   "source": []
  }
 ],
 "metadata": {
  "kernelspec": {
   "display_name": "rag_book",
   "language": "python",
   "name": "rag_book"
  },
  "language_info": {
   "codemirror_mode": {
    "name": "ipython",
    "version": 3
   },
   "file_extension": ".py",
   "mimetype": "text/x-python",
   "name": "python",
   "nbconvert_exporter": "python",
   "pygments_lexer": "ipython3",
   "version": "3.11.11"
  }
 },
 "nbformat": 4,
 "nbformat_minor": 5
}
