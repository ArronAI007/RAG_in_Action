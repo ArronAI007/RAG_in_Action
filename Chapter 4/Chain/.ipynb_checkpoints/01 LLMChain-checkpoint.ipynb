{
 "cells": [
  {
   "cell_type": "code",
   "execution_count": 1,
   "id": "23b11935-734a-40ce-8257-802c94f6ad46",
   "metadata": {},
   "outputs": [
    {
     "data": {
      "text/plain": [
       "True"
      ]
     },
     "execution_count": 1,
     "metadata": {},
     "output_type": "execute_result"
    }
   ],
   "source": [
    "import os\n",
    "from dotenv import load_dotenv\n",
    "\n",
    "# 加载 .env 文件中的环境变量\n",
    "load_dotenv()"
   ]
  },
  {
   "cell_type": "markdown",
   "id": "666a00eb-d448-4bc9-ad7e-b4cea62ada95",
   "metadata": {},
   "source": [
    "# 创建提示模板"
   ]
  },
  {
   "cell_type": "code",
   "execution_count": 2,
   "id": "978ee8c5-c293-4e6c-b2a2-47d84c98b127",
   "metadata": {},
   "outputs": [],
   "source": [
    "from langchain.prompts import PromptTemplate\n",
    "\n",
    "# 创建提示模板\n",
    "template = \"What is a good name for a company that makes {product}?\"\n",
    "prompt = PromptTemplate.from_template(template)"
   ]
  },
  {
   "cell_type": "markdown",
   "id": "1a2353c1-aeb9-4c5b-a75b-219da199fe96",
   "metadata": {},
   "source": [
    "# 创建语言模型实例"
   ]
  },
  {
   "cell_type": "code",
   "execution_count": 4,
   "id": "2592d39d-4674-4096-9002-a1b5870d8932",
   "metadata": {},
   "outputs": [],
   "source": [
    "from langchain_openai import ChatOpenAI\n",
    "\n",
    "# 创建语言模型实例\n",
    "llm = ChatOpenAI(\n",
    "    model_name=\"gpt-4o\",\n",
    "    temperature=0.0\n",
    ")"
   ]
  },
  {
   "cell_type": "markdown",
   "id": "3772e10c-4729-4e05-b848-91435c6100a9",
   "metadata": {},
   "source": [
    "# 创建 LLMChain 实例"
   ]
  },
  {
   "cell_type": "code",
   "execution_count": 5,
   "id": "d4789ecc-af2a-4f69-b7cc-1ef8237118ef",
   "metadata": {},
   "outputs": [
    {
     "name": "stderr",
     "output_type": "stream",
     "text": [
      "/var/folders/rq/kthvngcn3r769fzgn106ymd00000gn/T/ipykernel_84412/4054505776.py:4: LangChainDeprecationWarning: The class `LLMChain` was deprecated in LangChain 0.1.17 and will be removed in 1.0. Use :meth:`~RunnableSequence, e.g., `prompt | llm`` instead.\n",
      "  chain = LLMChain(llm=llm, prompt=prompt)\n"
     ]
    }
   ],
   "source": [
    "from langchain.chains import LLMChain\n",
    "\n",
    "# 创建 LLMChain 实例\n",
    "chain = LLMChain(llm=llm, prompt=prompt)"
   ]
  },
  {
   "cell_type": "markdown",
   "id": "a659a755-648d-4fc4-83fa-c78aa57b4f03",
   "metadata": {},
   "source": [
    "# 调用链并获取结果"
   ]
  },
  {
   "cell_type": "code",
   "execution_count": 6,
   "id": "0858fb3b-39f6-46a8-86e1-ee09311fece0",
   "metadata": {},
   "outputs": [
    {
     "name": "stdout",
     "output_type": "stream",
     "text": [
      "{'product': 'colorful socks', 'text': \"Choosing a name for a company that makes colorful socks can be a fun and creative process. Here are a few suggestions:\\n\\n1. **Sock Spectrum**\\n2. **Vivid Toes**\\n3. **ColorStride**\\n4. **Happy Feet Socks**\\n5. **Toe Tapestry**\\n6. **ChromaSocks**\\n7. **Sole Splash**\\n8. **Hue & Foot**\\n9. **Sock Pop**\\n10. **Rainbow Stitches**\\n\\nWhen selecting a name, consider how it reflects your brand's personality and the emotions you want to evoke in your customers.\"}\n"
     ]
    }
   ],
   "source": [
    "# 调用链并获取结果\n",
    "result = chain.invoke({\"product\": \"colorful socks\"})\n",
    "print(result)  # 输出: ColorfulCo Sockery."
   ]
  }
 ],
 "metadata": {
  "kernelspec": {
   "display_name": "rag_book",
   "language": "python",
   "name": "rag_book"
  },
  "language_info": {
   "codemirror_mode": {
    "name": "ipython",
    "version": 3
   },
   "file_extension": ".py",
   "mimetype": "text/x-python",
   "name": "python",
   "nbconvert_exporter": "python",
   "pygments_lexer": "ipython3",
   "version": "3.11.11"
  }
 },
 "nbformat": 4,
 "nbformat_minor": 5
}
