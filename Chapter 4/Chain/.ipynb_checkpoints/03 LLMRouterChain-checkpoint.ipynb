{
 "cells": [
  {
   "cell_type": "code",
   "execution_count": 1,
   "id": "1ba08b0b-f2e1-4aa5-ab71-409cb386f439",
   "metadata": {},
   "outputs": [],
   "source": [
    "from langchain.chains.router.llm_router import LLMRouterChain, RouterOutputParser\n",
    "from langchain.chains.router.multi_prompt_prompt import MULTI_PROMPT_ROUTER_TEMPLATE\n",
    "from langchain.prompts import PromptTemplate\n",
    "from langchain_openai import ChatOpenAI\n",
    "from langchain.chains import LLMChain\n",
    "from langchain.chains.llm import LLMChain\n",
    "from langchain.chains import ConversationChain"
   ]
  },
  {
   "cell_type": "code",
   "execution_count": 2,
   "id": "9180d3a8-5823-4b21-b838-f6ee47d5559f",
   "metadata": {},
   "outputs": [
    {
     "data": {
      "text/plain": [
       "True"
      ]
     },
     "execution_count": 2,
     "metadata": {},
     "output_type": "execute_result"
    }
   ],
   "source": [
    "import os\n",
    "from dotenv import load_dotenv\n",
    "\n",
    "# 加载 .env 文件中的环境变量\n",
    "load_dotenv()"
   ]
  },
  {
   "cell_type": "markdown",
   "id": "48e303aa-d0ec-44e6-8061-8e60bad189e8",
   "metadata": {},
   "source": [
    "# 创建提示模板"
   ]
  },
  {
   "cell_type": "code",
   "execution_count": 3,
   "id": "ddf15dee-586b-446a-a0bc-03fb6e8bd1ac",
   "metadata": {},
   "outputs": [],
   "source": [
    "physics_template = \"\"\"You are a very smart physics professor.\n",
    "You are great at answering questions about physics in a concise and easy to understand manner.\n",
    "When you don't know the answer to a question you admit that you don't know.\n",
    "\n",
    "Here is a question:\n",
    "{input}\"\"\"\n",
    "\n",
    "math_template = \"\"\"You are a very good mathematician. You are great at answering math questions.\n",
    "You are so good because you are able to break down hard problems into their component parts,\n",
    "answer the component parts, and then put them together to answer the broader question.\n",
    "\n",
    "Here is a question:\n",
    "{input}\"\"\"\n",
    "\n",
    "prompt_infos = [\n",
    "    {\n",
    "        \"name\": \"physics\",\n",
    "        \"description\": \"Good for answering questions about physics\",\n",
    "        \"prompt_template\": physics_template,\n",
    "    },\n",
    "    {\n",
    "        \"name\": \"math\",\n",
    "        \"description\": \"Good for answering math questions\",\n",
    "        \"prompt_template\": math_template,\n",
    "    },\n",
    "]"
   ]
  },
  {
   "cell_type": "markdown",
   "id": "b58ff855-a09c-426c-a116-73014bcbb90f",
   "metadata": {},
   "source": [
    "# 创建目标链"
   ]
  },
  {
   "cell_type": "code",
   "execution_count": 4,
   "id": "5e1cc0c2-6e57-4676-8b6e-3d3f181d52fb",
   "metadata": {},
   "outputs": [
    {
     "name": "stderr",
     "output_type": "stream",
     "text": [
      "/var/folders/rq/kthvngcn3r769fzgn106ymd00000gn/T/ipykernel_92723/68843885.py:8: LangChainDeprecationWarning: The class `LLMChain` was deprecated in LangChain 0.1.17 and will be removed in 1.0. Use :meth:`~RunnableSequence, e.g., `prompt | llm`` instead.\n",
      "  chain = LLMChain(llm=llm, prompt=prompt)\n",
      "/var/folders/rq/kthvngcn3r769fzgn106ymd00000gn/T/ipykernel_92723/68843885.py:11: LangChainDeprecationWarning: The class `ConversationChain` was deprecated in LangChain 0.2.7 and will be removed in 1.0. Use :meth:`~RunnableWithMessageHistory: https://python.langchain.com/v0.2/api_reference/core/runnables/langchain_core.runnables.history.RunnableWithMessageHistory.html` instead.\n",
      "  default_chain = ConversationChain(llm=llm, output_key=\"text\")\n",
      "/opt/anaconda3/envs/rag_book/lib/python3.11/site-packages/pydantic/main.py:214: LangChainDeprecationWarning: Please see the migration guide at: https://python.langchain.com/docs/versions/migrating_memory/\n",
      "  validated_self = self.__pydantic_validator__.validate_python(data, self_instance=self)\n"
     ]
    }
   ],
   "source": [
    "llm = ChatOpenAI(model=\"gpt-4o\")\n",
    "\n",
    "destination_chains = {}\n",
    "for p_info in prompt_infos:\n",
    "    name = p_info[\"name\"]\n",
    "    prompt_template = p_info[\"prompt_template\"]\n",
    "    prompt = PromptTemplate(template=prompt_template, input_variables=[\"input\"])\n",
    "    chain = LLMChain(llm=llm, prompt=prompt)\n",
    "    destination_chains[name] = chain\n",
    "\n",
    "default_chain = ConversationChain(llm=llm, output_key=\"text\")"
   ]
  },
  {
   "cell_type": "markdown",
   "id": "03bdbf1a-67f7-46f4-a970-863691082633",
   "metadata": {},
   "source": [
    "# 创建路由链"
   ]
  },
  {
   "cell_type": "code",
   "execution_count": 5,
   "id": "ac8d5c3c-4e7a-4071-9b1a-0ffe41ad33d6",
   "metadata": {},
   "outputs": [],
   "source": [
    "destinations = [f\"{p['name']}: {p['description']}\" for p in prompt_infos]\n",
    "destinations_str = \"\\n\".join(destinations)\n",
    "\n",
    "router_template = MULTI_PROMPT_ROUTER_TEMPLATE.format(destinations=destinations_str)\n",
    "router_prompt = PromptTemplate(\n",
    "    template=router_template,\n",
    "    input_variables=[\"input\"],\n",
    "    output_parser=RouterOutputParser(),\n",
    ")\n",
    "\n",
    "router_chain = LLMRouterChain.from_llm(llm, router_prompt)"
   ]
  },
  {
   "cell_type": "markdown",
   "id": "844816e7-0d64-4084-979d-5a1dc0621d59",
   "metadata": {},
   "source": [
    "# 创建 MultiPromptChain"
   ]
  },
  {
   "cell_type": "code",
   "execution_count": 6,
   "id": "9461b015-8b9b-4450-af49-895cf63c4ada",
   "metadata": {},
   "outputs": [
    {
     "name": "stderr",
     "output_type": "stream",
     "text": [
      "/var/folders/rq/kthvngcn3r769fzgn106ymd00000gn/T/ipykernel_92723/883156345.py:3: LangChainDeprecationWarning: Please see migration guide here for recommended implementation: https://python.langchain.com/docs/versions/migrating_chains/multi_prompt_chain/\n",
      "  chain = MultiPromptChain(\n"
     ]
    }
   ],
   "source": [
    "from langchain.chains.router import MultiPromptChain\n",
    "\n",
    "chain = MultiPromptChain(\n",
    "    router_chain=router_chain,\n",
    "    destination_chains=destination_chains,\n",
    "    default_chain=default_chain,\n",
    "    verbose=True,\n",
    ")"
   ]
  },
  {
   "cell_type": "markdown",
   "id": "65dae7f4-a6a2-48b0-87e0-13af016d7854",
   "metadata": {},
   "source": [
    "# 调用链并获取结果"
   ]
  },
  {
   "cell_type": "code",
   "execution_count": 7,
   "id": "162022ab-6ef7-4201-96cc-b5a24ba79b3a",
   "metadata": {},
   "outputs": [
    {
     "name": "stderr",
     "output_type": "stream",
     "text": [
      "/var/folders/rq/kthvngcn3r769fzgn106ymd00000gn/T/ipykernel_92723/898669921.py:1: LangChainDeprecationWarning: The method `Chain.run` was deprecated in langchain 0.1.0 and will be removed in 1.0. Use :meth:`~invoke` instead.\n",
      "  result = chain.run(\"What is black body radiation?\")\n"
     ]
    },
    {
     "name": "stdout",
     "output_type": "stream",
     "text": [
      "\n",
      "\n",
      "\u001b[1m> Entering new MultiPromptChain chain...\u001b[0m\n",
      "physics: {'input': 'What is black body radiation?'}\n",
      "\u001b[1m> Finished chain.\u001b[0m\n",
      "Black body radiation refers to the electromagnetic radiation emitted by an idealized object called a black body. A black body is an object that absorbs all incident radiation, regardless of frequency or angle, making it a perfect absorber. When this object is at a constant temperature, it also emits radiation with a characteristic spectrum that depends only on its temperature, not on its shape or material composition.\n",
      "\n",
      "Key features of black body radiation include:\n",
      "- It has a continuous spectrum that shifts towards shorter wavelengths as the temperature increases, which is described by Wien's Displacement Law.\n",
      "- The total energy emitted per unit surface area is proportional to the fourth power of the black body’s temperature, as described by the Stefan-Boltzmann Law.\n",
      "- The shape of the spectrum is described by Planck’s Law, which accounts for quantum mechanical effects and explains the ultraviolet catastrophe predicted by classical physics.\n",
      "\n",
      "Black body radiation is a fundamental concept in physics, providing insights into the nature of thermal radiation and leading to the development of quantum mechanics.\n"
     ]
    }
   ],
   "source": [
    "result = chain.run(\"What is black body radiation?\")\n",
    "print(result)"
   ]
  }
 ],
 "metadata": {
  "kernelspec": {
   "display_name": "rag_book",
   "language": "python",
   "name": "rag_book"
  },
  "language_info": {
   "codemirror_mode": {
    "name": "ipython",
    "version": 3
   },
   "file_extension": ".py",
   "mimetype": "text/x-python",
   "name": "python",
   "nbconvert_exporter": "python",
   "pygments_lexer": "ipython3",
   "version": "3.11.11"
  }
 },
 "nbformat": 4,
 "nbformat_minor": 5
}
