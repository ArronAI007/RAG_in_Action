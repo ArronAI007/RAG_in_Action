{
 "cells": [
  {
   "cell_type": "markdown",
   "id": "b3b5b39f-12f9-4469-b0af-a72635d96a32",
   "metadata": {},
   "source": [
    "# PromptTemplate包装器"
   ]
  },
  {
   "cell_type": "markdown",
   "id": "f0687027-4ecd-4e32-98e5-20f836720ca4",
   "metadata": {},
   "source": [
    "1. 直接生成提示模板"
   ]
  },
  {
   "cell_type": "code",
   "execution_count": 1,
   "id": "ce301e40-eff1-4d62-a259-f10663e1977b",
   "metadata": {},
   "outputs": [
    {
     "name": "stdout",
     "output_type": "stream",
     "text": [
      "您是一位专业的文案写手。\n",
      "对于信息 猪八戒吃人参果 进行简短描述\n"
     ]
    }
   ],
   "source": [
    "from langchain.prompts import PromptTemplate\n",
    "\n",
    "prompt = PromptTemplate(\n",
    "    input_variables=[\"text\"],\n",
    "    template=\"您是一位专业的文案写手。\\n对于信息 {text} 进行简短描述\"\n",
    ")\n",
    "print(prompt.format(text=\"猪八戒吃人参果\"))"
   ]
  },
  {
   "cell_type": "markdown",
   "id": "a9457009-f5a7-41f4-907f-29ebdb97d202",
   "metadata": {},
   "source": [
    "2. 通过 from_template 方法从字符串模板中创建提示模板："
   ]
  },
  {
   "cell_type": "code",
   "execution_count": 2,
   "id": "4cb7d400-7857-4cab-9318-6e35594454b9",
   "metadata": {},
   "outputs": [
    {
     "name": "stdout",
     "output_type": "stream",
     "text": [
      "input_variables=['text'] input_types={} partial_variables={} template='您是一位专业的文案写手。\\n对于信息 {text} 进行简短描述'\n",
      "您是一位专业的文案写手。\n",
      "对于信息 猪八戒吃人参果 进行简短描述\n"
     ]
    }
   ],
   "source": [
    "from langchain.prompts import PromptTemplate\n",
    "\n",
    "# 创建原始模板\n",
    "template = \"您是一位专业的文案写手。\\n对于信息 {text} 进行简短描述\"\n",
    "# 根据原始模板创建 LangChain 提示模板\n",
    "prompt = PromptTemplate.from_template(template)\n",
    "# 打印 LangChain 提示模板的内容\n",
    "print(prompt)\n",
    "print(prompt.format(text=\"猪八戒吃人参果\"))"
   ]
  },
  {
   "cell_type": "markdown",
   "id": "832483d8-3540-4b76-a54e-702619afb68a",
   "metadata": {},
   "source": [
    "# ChatPromptTemplate包装器"
   ]
  },
  {
   "cell_type": "code",
   "execution_count": 3,
   "id": "6144a765-f72e-453e-a922-ca13969bf1f2",
   "metadata": {},
   "outputs": [
    {
     "name": "stdout",
     "output_type": "stream",
     "text": [
      "input_variables=[] input_types={} partial_variables={} messages=[SystemMessage(content='您是一位专业的文案写手。', additional_kwargs={}, response_metadata={}), HumanMessage(content='对于信息 {text} 进行简短描述', additional_kwargs={}, response_metadata={})]\n",
      "System: 您是一位专业的文案写手。\n",
      "Human: 对于信息 {text} 进行简短描述\n"
     ]
    }
   ],
   "source": [
    "from langchain.prompts import ChatPromptTemplate\n",
    "from langchain.schema.messages import SystemMessage, HumanMessage\n",
    "\n",
    "# 创建原始模板\n",
    "template = \"您是一位专业的文案写手。\\n对于信息 {text} 进行简短描述\"\n",
    "\n",
    "# 创建系统消息\n",
    "system_message = SystemMessage(content=\"您是一位专业的文案写手。\")\n",
    "\n",
    "# 创建用户消息模板\n",
    "human_template = \"对于信息 {text} 进行简短描述\"\n",
    "human_message = HumanMessage(content=human_template)\n",
    "\n",
    "# 根据原始模板创建 LangChain 聊天提示模板\n",
    "chat_prompt = ChatPromptTemplate.from_messages([system_message, human_message])\n",
    "\n",
    "# 打印 LangChain 聊天提示模板的内容\n",
    "print(chat_prompt)\n",
    "\n",
    "# 格式化提示模板并打印结果\n",
    "formatted_prompt = chat_prompt.format(text=\"猪八戒吃人参果\")\n",
    "print(formatted_prompt)"
   ]
  }
 ],
 "metadata": {
  "kernelspec": {
   "display_name": "rag_book",
   "language": "python",
   "name": "rag_book"
  },
  "language_info": {
   "codemirror_mode": {
    "name": "ipython",
    "version": 3
   },
   "file_extension": ".py",
   "mimetype": "text/x-python",
   "name": "python",
   "nbconvert_exporter": "python",
   "pygments_lexer": "ipython3",
   "version": "3.11.11"
  }
 },
 "nbformat": 4,
 "nbformat_minor": 5
}
