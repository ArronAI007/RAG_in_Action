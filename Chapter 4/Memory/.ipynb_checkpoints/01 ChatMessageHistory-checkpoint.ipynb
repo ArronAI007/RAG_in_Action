{
 "cells": [
  {
   "cell_type": "code",
   "execution_count": 1,
   "id": "f0ad3785-e772-49a2-ba0f-0171f957f6e0",
   "metadata": {},
   "outputs": [
    {
     "name": "stdout",
     "output_type": "stream",
     "text": [
      "[HumanMessage(content='你好，我是人类！', additional_kwargs={}, response_metadata={}), AIMessage(content='你好，我是AI，有什么可以帮助你的吗？', additional_kwargs={}, response_metadata={}), HumanMessage(content='你可以帮我做什么？', additional_kwargs={}, response_metadata={})]\n"
     ]
    }
   ],
   "source": [
    "from langchain.memory import ChatMessageHistory\n",
    "\n",
    "history = ChatMessageHistory()\n",
    "history.add_user_message(\"你好，我是人类！\")\n",
    "history.add_ai_message(\"你好，我是AI，有什么可以帮助你的吗？\")\n",
    "history.add_user_message(\"你可以帮我做什么？\")\n",
    "\n",
    "print(history.messages)"
   ]
  }
 ],
 "metadata": {
  "kernelspec": {
   "display_name": "rag_book",
   "language": "python",
   "name": "rag_book"
  },
  "language_info": {
   "codemirror_mode": {
    "name": "ipython",
    "version": 3
   },
   "file_extension": ".py",
   "mimetype": "text/x-python",
   "name": "python",
   "nbconvert_exporter": "python",
   "pygments_lexer": "ipython3",
   "version": "3.11.11"
  }
 },
 "nbformat": 4,
 "nbformat_minor": 5
}
