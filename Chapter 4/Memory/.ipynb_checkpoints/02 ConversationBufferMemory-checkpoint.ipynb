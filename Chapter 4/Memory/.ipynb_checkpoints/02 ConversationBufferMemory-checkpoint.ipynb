{
 "cells": [
  {
   "cell_type": "code",
   "execution_count": 1,
   "id": "6c9538a0-1876-491d-8cba-00cfe04e7b4b",
   "metadata": {},
   "outputs": [
    {
     "data": {
      "text/plain": [
       "True"
      ]
     },
     "execution_count": 1,
     "metadata": {},
     "output_type": "execute_result"
    }
   ],
   "source": [
    "import os\n",
    "from dotenv import load_dotenv\n",
    "\n",
    "# 加载 .env 文件中的环境变量\n",
    "load_dotenv()"
   ]
  },
  {
   "cell_type": "code",
   "execution_count": 2,
   "id": "0aa34812-9dbf-43af-9e9a-361be42a2a9a",
   "metadata": {},
   "outputs": [],
   "source": [
    "from langchain_openai import ChatOpenAI\n",
    "from langchain.chains import ConversationChain\n",
    "from langchain.memory import ConversationBufferMemory\n",
    "from langchain.prompts import PromptTemplate"
   ]
  },
  {
   "cell_type": "code",
   "execution_count": 3,
   "id": "1bae0ad1-c2fd-4fb8-9fdc-64ce6082a296",
   "metadata": {},
   "outputs": [],
   "source": [
    "# 创建语言模型实例\n",
    "llm = ChatOpenAI(temperature=0.0, model=\"gpt-4o\")"
   ]
  },
  {
   "cell_type": "code",
   "execution_count": 4,
   "id": "126a2cd5-c9be-4e7d-8e16-090de371cfa4",
   "metadata": {},
   "outputs": [
    {
     "name": "stderr",
     "output_type": "stream",
     "text": [
      "/var/folders/rq/kthvngcn3r769fzgn106ymd00000gn/T/ipykernel_1261/4041919508.py:2: LangChainDeprecationWarning: Please see the migration guide at: https://python.langchain.com/docs/versions/migrating_memory/\n",
      "  memory = ConversationBufferMemory(memory_key=\"chat_history\", return_messages=True)\n"
     ]
    }
   ],
   "source": [
    "# 创建 ConversationBufferMemory 实例\n",
    "memory = ConversationBufferMemory(memory_key=\"chat_history\", return_messages=True)"
   ]
  },
  {
   "cell_type": "code",
   "execution_count": 5,
   "id": "0c68d514-3b07-4415-aed5-fd1fd6ed4f5c",
   "metadata": {},
   "outputs": [],
   "source": [
    "# 创建提示模板\n",
    "template = \"\"\"\n",
    "The following is a friendly conversation between a human and an AI. The AI is talkative and provides lots of specific details from its context. If the AI does not know the answer to a question, it truthfully says it does not know.\n",
    "\n",
    "Current conversation:\n",
    "{chat_history}\n",
    "\n",
    "Human: {input}\n",
    "AI:\n",
    "\"\"\"\n",
    "prompt_template = PromptTemplate(input_variables=[\"chat_history\", \"input\"], template=template)"
   ]
  },
  {
   "cell_type": "code",
   "execution_count": 6,
   "id": "aa6e2587-1148-4098-9ac2-7b04b9065b47",
   "metadata": {},
   "outputs": [
    {
     "name": "stderr",
     "output_type": "stream",
     "text": [
      "/var/folders/rq/kthvngcn3r769fzgn106ymd00000gn/T/ipykernel_1261/2629995941.py:2: LangChainDeprecationWarning: The class `ConversationChain` was deprecated in LangChain 0.2.7 and will be removed in 1.0. Use :meth:`~RunnableWithMessageHistory: https://python.langchain.com/v0.2/api_reference/core/runnables/langchain_core.runnables.history.RunnableWithMessageHistory.html` instead.\n",
      "  conversation = ConversationChain(llm=llm, prompt=prompt_template, memory=memory, verbose=True)\n"
     ]
    }
   ],
   "source": [
    "# 创建 ConversationChain 实例：\n",
    "conversation = ConversationChain(llm=llm, prompt=prompt_template, memory=memory, verbose=True)"
   ]
  },
  {
   "cell_type": "code",
   "execution_count": 7,
   "id": "d95afee3-bbfd-42d8-9fa5-02c6bdb812d5",
   "metadata": {},
   "outputs": [
    {
     "name": "stdout",
     "output_type": "stream",
     "text": [
      "\n",
      "\n",
      "\u001b[1m> Entering new ConversationChain chain...\u001b[0m\n",
      "Prompt after formatting:\n",
      "\u001b[32;1m\u001b[1;3m\n",
      "The following is a friendly conversation between a human and an AI. The AI is talkative and provides lots of specific details from its context. If the AI does not know the answer to a question, it truthfully says it does not know.\n",
      "\n",
      "Current conversation:\n",
      "[]\n",
      "\n",
      "Human: Hi there!\n",
      "AI:\n",
      "\u001b[0m\n",
      "\n",
      "\u001b[1m> Finished chain.\u001b[0m\n",
      "Hello! It's great to chat with you. How can I assist you today? Whether you want to talk about technology, history, or even something fun like your favorite hobbies, I'm here to help!\n",
      "\n",
      "\n",
      "\u001b[1m> Entering new ConversationChain chain...\u001b[0m\n",
      "Prompt after formatting:\n",
      "\u001b[32;1m\u001b[1;3m\n",
      "The following is a friendly conversation between a human and an AI. The AI is talkative and provides lots of specific details from its context. If the AI does not know the answer to a question, it truthfully says it does not know.\n",
      "\n",
      "Current conversation:\n",
      "[HumanMessage(content='Hi there!', additional_kwargs={}, response_metadata={}), AIMessage(content=\"Hello! It's great to chat with you. How can I assist you today? Whether you want to talk about technology, history, or even something fun like your favorite hobbies, I'm here to help!\", additional_kwargs={}, response_metadata={})]\n",
      "\n",
      "Human: I'm doing well! Just having a conversation with an AI.\n",
      "AI:\n",
      "\u001b[0m\n",
      "\n",
      "\u001b[1m> Finished chain.\u001b[0m\n",
      "That's wonderful to hear! Engaging in a conversation with an AI can be quite an interesting experience. We can chat about a wide range of topics. For instance, if you're curious about how AI works, I can explain some of the basics, like machine learning and natural language processing. Or, if you're in the mood for something lighter, we could discuss your favorite movies or books. Whatever you're interested in, I'm here to make our conversation enjoyable and informative!\n",
      "\n",
      "\n",
      "\u001b[1m> Entering new ConversationChain chain...\u001b[0m\n",
      "Prompt after formatting:\n",
      "\u001b[32;1m\u001b[1;3m\n",
      "The following is a friendly conversation between a human and an AI. The AI is talkative and provides lots of specific details from its context. If the AI does not know the answer to a question, it truthfully says it does not know.\n",
      "\n",
      "Current conversation:\n",
      "[HumanMessage(content='Hi there!', additional_kwargs={}, response_metadata={}), AIMessage(content=\"Hello! It's great to chat with you. How can I assist you today? Whether you want to talk about technology, history, or even something fun like your favorite hobbies, I'm here to help!\", additional_kwargs={}, response_metadata={}), HumanMessage(content=\"I'm doing well! Just having a conversation with an AI.\", additional_kwargs={}, response_metadata={}), AIMessage(content=\"That's wonderful to hear! Engaging in a conversation with an AI can be quite an interesting experience. We can chat about a wide range of topics. For instance, if you're curious about how AI works, I can explain some of the basics, like machine learning and natural language processing. Or, if you're in the mood for something lighter, we could discuss your favorite movies or books. Whatever you're interested in, I'm here to make our conversation enjoyable and informative!\", additional_kwargs={}, response_metadata={})]\n",
      "\n",
      "Human: Tell me about yourself.\n",
      "AI:\n",
      "\u001b[0m\n",
      "\n",
      "\u001b[1m> Finished chain.\u001b[0m\n",
      "I'm glad you asked! I'm an AI language model developed by OpenAI, designed to assist with a wide range of topics by providing information, answering questions, and engaging in friendly conversation. My primary goal is to be helpful and informative, whether you're curious about technology, science, history, or just want to chat about everyday topics. I don't have personal experiences or emotions, but I can draw on a vast amount of information to help answer your questions. If there's anything specific you'd like to know or discuss, feel free to ask!\n"
     ]
    }
   ],
   "source": [
    "# 第一次对话\n",
    "result = conversation.predict(input=\"Hi there!\")\n",
    "print(result)  # 输出: Hi there! It's nice to meet you. How can I help you today?\n",
    "\n",
    "# 第二次对话\n",
    "result = conversation.predict(input=\"I'm doing well! Just having a conversation with an AI.\")\n",
    "print(result)  # 输出: That's great! It's always nice to have a conversation with someone new. What would you like to talk about?\n",
    "\n",
    "# 第三次对话\n",
    "result = conversation.predict(input=\"Tell me about yourself.\")\n",
    "print(result)  # 输出: Sure! I'm an AI created to help people with their everyday tasks. I'm programmed to understand natural language and provide helpful information. I'm also constantly learning and updating my knowledge base so I can provide more accurate and helpful answers."
   ]
  },
  {
   "cell_type": "code",
   "execution_count": null,
   "id": "ebb76c08-2452-42e0-aa08-a63459e84d45",
   "metadata": {},
   "outputs": [],
   "source": []
  }
 ],
 "metadata": {
  "kernelspec": {
   "display_name": "rag_book",
   "language": "python",
   "name": "rag_book"
  },
  "language_info": {
   "codemirror_mode": {
    "name": "ipython",
    "version": 3
   },
   "file_extension": ".py",
   "mimetype": "text/x-python",
   "name": "python",
   "nbconvert_exporter": "python",
   "pygments_lexer": "ipython3",
   "version": "3.11.11"
  }
 },
 "nbformat": 4,
 "nbformat_minor": 5
}
