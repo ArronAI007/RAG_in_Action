{
 "cells": [
  {
   "cell_type": "code",
   "execution_count": 1,
   "id": "8242fa58-2c53-4655-b6ea-0a92e0ebcdf4",
   "metadata": {},
   "outputs": [
    {
     "data": {
      "text/plain": [
       "True"
      ]
     },
     "execution_count": 1,
     "metadata": {},
     "output_type": "execute_result"
    }
   ],
   "source": [
    "import os\n",
    "from dotenv import load_dotenv\n",
    "\n",
    "# 加载 .env 文件中的环境变量\n",
    "load_dotenv()"
   ]
  },
  {
   "cell_type": "code",
   "execution_count": 2,
   "id": "80919add-2387-40a3-9c23-ccd8308225e6",
   "metadata": {},
   "outputs": [],
   "source": [
    "from langchain.agents import initialize_agent, Tool, AgentType\n",
    "from langchain.llms import OpenAI\n",
    "from langchain.utilities import WikipediaAPIWrapper"
   ]
  },
  {
   "cell_type": "code",
   "execution_count": 3,
   "id": "a1627265-b6fe-40f5-b264-5dd3b1e5b104",
   "metadata": {},
   "outputs": [
    {
     "name": "stderr",
     "output_type": "stream",
     "text": [
      "/var/folders/rq/kthvngcn3r769fzgn106ymd00000gn/T/ipykernel_6812/3053621712.py:2: LangChainDeprecationWarning: The class `OpenAI` was deprecated in LangChain 0.0.10 and will be removed in 1.0. An updated version of the class exists in the :class:`~langchain-openai package and should be used instead. To use it run `pip install -U :class:`~langchain-openai` and import as `from :class:`~langchain_openai import OpenAI``.\n",
      "  llm = OpenAI()\n",
      "/var/folders/rq/kthvngcn3r769fzgn106ymd00000gn/T/ipykernel_6812/3053621712.py:14: LangChainDeprecationWarning: LangChain agents will continue to be supported, but it is recommended for new use cases to be built with LangGraph. LangGraph offers a more flexible and full-featured framework for building agents, including support for tool-calling, persistence of state, and human-in-the-loop workflows. For details, refer to the `LangGraph documentation <https://langchain-ai.github.io/langgraph/>`_ as well as guides for `Migrating from AgentExecutor <https://python.langchain.com/docs/how_to/migrate_agent/>`_ and LangGraph's `Pre-built ReAct agent <https://langchain-ai.github.io/langgraph/how-tos/create-react-agent/>`_.\n",
      "  agent = initialize_agent(tools, llm, agent=\"zero-shot-react-description\", verbose=True)\n",
      "/var/folders/rq/kthvngcn3r769fzgn106ymd00000gn/T/ipykernel_6812/3053621712.py:17: LangChainDeprecationWarning: The method `Chain.run` was deprecated in langchain 0.1.0 and will be removed in 1.0. Use :meth:`~invoke` instead.\n",
      "  response = agent.run(\"What is the capital of France?\")\n"
     ]
    },
    {
     "name": "stdout",
     "output_type": "stream",
     "text": [
      "\n",
      "\n",
      "\u001b[1m> Entering new AgentExecutor chain...\u001b[0m\n",
      "\u001b[32;1m\u001b[1;3m I should use Wikipedia to look for information about the capital of France.\n",
      "Action: Wikipedia\n",
      "Action Input: \"Capital of France\"\u001b[0m\n",
      "Observation: \u001b[36;1m\u001b[1;3mPage: List of capitals of France\n",
      "Summary: This is a chronological list of capitals of France. The capital of France has been Paris since its liberation in 1944.\n",
      "\n",
      "Page: Capital punishment in France\n",
      "Summary: Capital punishment in France (French: peine de mort en France) is banned by Article 66-1 of the Constitution of the French Republic, voted as a constitutional amendment by the Congress of the French Parliament on 19 February 2007 and simply stating \"No one can be sentenced to the death penalty\" (French: Nul ne peut être condamné à la peine de mort). The death penalty was already declared illegal on 9 October 1981 when President François Mitterrand signed a law prohibiting the judicial system from using it and commuting the sentences of the seven people on death row to life imprisonment. The last execution took place by guillotine, being the main legal method since the French Revolution; Hamida Djandoubi, a Tunisian citizen convicted of torture and murder on French soil, was put to death in September 1977 in Marseille.\n",
      "Major French death penalty abolitionists across time have included philosopher Voltaire; poet Victor Hugo; politicians Léon Gambetta, Jean Jaurès and Aristide Briand; and writers Alphonse de Lamartine and Albert Camus.\n",
      "\n",
      "Page: Capital city\n",
      "Summary: A capital city or just capital is the municipality holding primary status in a country, state, province, department, or other subnational division, usually as its seat of the government. A capital is typically a city that physically encompasses the government's offices and meeting places; the status as capital is often designated by its law or constitution. In some jurisdictions, including several countries, different branches of government are in different settlements, sometimes meaning multiple official capitals. In some cases, a distinction is made between the official (constitutional) capital and the seat of government, which is in another place. \n",
      "English-language news media often use the name of the capital city as an alternative name for the government of the country of which it is the capital, as a form of metonymy. For example, the \"relations between London and Washington\" refers to the \"relations between the United Kingdom and the United States\".\u001b[0m\n",
      "Thought:\u001b[32;1m\u001b[1;3m The capital of France is Paris, as confirmed by the information from Wikipedia.\n",
      "Final Answer: Paris\u001b[0m\n",
      "\n",
      "\u001b[1m> Finished chain.\u001b[0m\n",
      "Paris\n"
     ]
    }
   ],
   "source": [
    "# 初始化大语言模型\n",
    "llm = OpenAI()\n",
    "\n",
    "# 定义工具列表\n",
    "tools = [\n",
    "    Tool(\n",
    "        name=\"Wikipedia\",\n",
    "        func=WikipediaAPIWrapper().run,\n",
    "        description=\"Useful for looking up information on Wikipedia.\"\n",
    "    )\n",
    "]\n",
    "\n",
    "# 创建Agent\n",
    "agent = initialize_agent(tools, llm, agent=AgentType.ZERO_SHOT_REACT_DESCRIPTION, verbose=True)\n",
    "\n",
    "# 提问\n",
    "response = agent.run(\"What is the capital of France?\")\n",
    "print(response)"
   ]
  },
  {
   "cell_type": "code",
   "execution_count": 4,
   "id": "19dc5208-8276-40f9-85ac-059884ffdd49",
   "metadata": {},
   "outputs": [],
   "source": [
    "from langchain.utilities import OpenWeatherMapAPIWrapper\n",
    "from langchain.agents import load_tools, initialize_agent, AgentType"
   ]
  },
  {
   "cell_type": "code",
   "execution_count": 5,
   "id": "4d32888d-7585-4f41-933b-6b49027d2472",
   "metadata": {},
   "outputs": [],
   "source": [
    "weather = OpenWeatherMapAPIWrapper()"
   ]
  },
  {
   "cell_type": "code",
   "execution_count": 6,
   "id": "6fa56852-50e3-43c5-84ea-5746c8a8dc97",
   "metadata": {},
   "outputs": [
    {
     "name": "stdout",
     "output_type": "stream",
     "text": [
      "In Paris, the current weather is as follows:\n",
      "Detailed status: clear sky\n",
      "Wind speed: 2.06 m/s, direction: 60°\n",
      "Humidity: 93%\n",
      "Temperature: \n",
      "  - Current: -2.48°C\n",
      "  - High: -1.59°C\n",
      "  - Low: -4.23°C\n",
      "  - Feels like: -5.42°C\n",
      "Rain: {}\n",
      "Heat index: None\n",
      "Cloud cover: 0%\n"
     ]
    }
   ],
   "source": [
    "weather_data = weather.run(\"Paris\")\n",
    "print(weather_data)"
   ]
  },
  {
   "cell_type": "code",
   "execution_count": 7,
   "id": "7f054413-728c-4e98-91ff-8e069d14f947",
   "metadata": {},
   "outputs": [],
   "source": [
    "tools = load_tools([\"openweathermap-api\"], llm)\n",
    "\n",
    "agent_chain = initialize_agent(\n",
    "    tools=tools,\n",
    "    llm=llm,\n",
    "    agent=AgentType.ZERO_SHOT_REACT_DESCRIPTION,\n",
    "    verbose=True\n",
    ")"
   ]
  },
  {
   "cell_type": "code",
   "execution_count": 8,
   "id": "51315265-7512-4cd8-aa4e-45a427b9ae10",
   "metadata": {},
   "outputs": [
    {
     "name": "stdout",
     "output_type": "stream",
     "text": [
      "\n",
      "\n",
      "\u001b[1m> Entering new AgentExecutor chain...\u001b[0m\n",
      "\u001b[32;1m\u001b[1;3m I need to use a weather API to get the current weather information for Paris.\n",
      "Action: open_weather_map\n",
      "Action Input: Paris\u001b[0m\n",
      "Observation: \u001b[36;1m\u001b[1;3mIn Paris, the current weather is as follows:\n",
      "Detailed status: clear sky\n",
      "Wind speed: 2.06 m/s, direction: 60°\n",
      "Humidity: 93%\n",
      "Temperature: \n",
      "  - Current: -2.48°C\n",
      "  - High: -1.59°C\n",
      "  - Low: -4.23°C\n",
      "  - Feels like: -5.42°C\n",
      "Rain: {}\n",
      "Heat index: None\n",
      "Cloud cover: 0%\u001b[0m\n",
      "Thought:\u001b[32;1m\u001b[1;3m I now know the final answer.\n",
      "Final Answer: The current weather in Paris is clear and cold, with a temperature of -2.48°C.\u001b[0m\n",
      "\n",
      "\u001b[1m> Finished chain.\u001b[0m\n",
      "The current weather in Paris is clear and cold, with a temperature of -2.48°C.\n"
     ]
    }
   ],
   "source": [
    "# 提问\n",
    "city = \"Paris\"\n",
    "response = agent_chain.run(f\"What's the weather like in {city}?\")\n",
    "print(response)"
   ]
  }
 ],
 "metadata": {
  "kernelspec": {
   "display_name": "rag_book",
   "language": "python",
   "name": "rag_book"
  },
  "language_info": {
   "codemirror_mode": {
    "name": "ipython",
    "version": 3
   },
   "file_extension": ".py",
   "mimetype": "text/x-python",
   "name": "python",
   "nbconvert_exporter": "python",
   "pygments_lexer": "ipython3",
   "version": "3.11.11"
  }
 },
 "nbformat": 4,
 "nbformat_minor": 5
}
