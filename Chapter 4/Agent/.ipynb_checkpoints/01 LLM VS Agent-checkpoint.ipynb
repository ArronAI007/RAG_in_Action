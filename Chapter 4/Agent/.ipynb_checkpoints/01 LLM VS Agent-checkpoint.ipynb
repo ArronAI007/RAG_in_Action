{
 "cells": [
  {
   "cell_type": "code",
   "execution_count": 1,
   "id": "cd3e29b9-af8f-4f19-af68-2df5f88ef6b9",
   "metadata": {},
   "outputs": [
    {
     "data": {
      "text/plain": [
       "True"
      ]
     },
     "execution_count": 1,
     "metadata": {},
     "output_type": "execute_result"
    }
   ],
   "source": [
    "import os\n",
    "from dotenv import load_dotenv\n",
    "\n",
    "# 加载 .env 文件中的环境变量\n",
    "load_dotenv()"
   ]
  },
  {
   "cell_type": "code",
   "execution_count": 2,
   "id": "c4bb57c0-b22a-4890-8453-bf54e85b160d",
   "metadata": {},
   "outputs": [
    {
     "name": "stderr",
     "output_type": "stream",
     "text": [
      "/var/folders/rq/kthvngcn3r769fzgn106ymd00000gn/T/ipykernel_20482/3170538187.py:4: LangChainDeprecationWarning: The class `OpenAI` was deprecated in LangChain 0.0.10 and will be removed in 1.0. An updated version of the class exists in the :class:`~langchain-openai package and should be used instead. To use it run `pip install -U :class:`~langchain-openai` and import as `from :class:`~langchain_openai import OpenAI``.\n",
      "  llm = OpenAI()\n",
      "/var/folders/rq/kthvngcn3r769fzgn106ymd00000gn/T/ipykernel_20482/3170538187.py:7: LangChainDeprecationWarning: The method `BaseLLM.__call__` was deprecated in langchain-core 0.1.7 and will be removed in 1.0. Use :meth:`~invoke` instead.\n",
      "  response = llm(\"When was Notre-Dame de Paris built and when was the last restoration completed?\")\n"
     ]
    },
    {
     "name": "stdout",
     "output_type": "stream",
     "text": [
      "\n",
      "\n",
      "Notre-Dame de Paris was built between 1163 and 1345. The last restoration was completed in 2019 after a fire damaged the cathedral on April 15, 2019.\n"
     ]
    }
   ],
   "source": [
    "from langchain.llms import OpenAI\n",
    "\n",
    "# 初始化大语言模型\n",
    "llm = OpenAI()\n",
    "\n",
    "# 提问\n",
    "response = llm(\"When was Notre-Dame de Paris built and when was the last restoration completed?\")\n",
    "print(response)"
   ]
  },
  {
   "cell_type": "markdown",
   "id": "c696d697-0c1f-4af1-be37-d718c9f28a81",
   "metadata": {},
   "source": [
    "这个答案明显是错误的。在这种情况下，LLM 将基于其内部的知识库生成回答。然而，由于 LLM 的知识是静态的，并且通常会有一个截止日期（例如，截至2021年的知识），它可能无法提供最新的信息，特别是对于像最近一次修复这样的动态信息。现在我们使用 LangChain 的 Agent功能，集成多个工具和服务，确保提供的信息既准确又最新。以下是具体的实现方式和对比："
   ]
  },
  {
   "cell_type": "code",
   "execution_count": 5,
   "id": "69e29406-2e2e-45fe-ad7b-5db4cd29dda7",
   "metadata": {},
   "outputs": [
    {
     "name": "stdout",
     "output_type": "stream",
     "text": [
      "\n",
      "\n",
      "\u001b[1m> Entering new AgentExecutor chain...\u001b[0m\n",
      "\u001b[32;1m\u001b[1;3m I should use Wikipedia to find information about Notre-Dame de Paris and its history.\n",
      "Action: Wikipedia\n",
      "Action Input: \"Notre-Dame de Paris\"\u001b[0m\n",
      "Observation: \u001b[36;1m\u001b[1;3mPage: Notre-Dame de Paris\n",
      "Summary: Notre-Dame de Paris (French: Cathédrale Notre-Dame de Paris French: [nɔtʁ(ə) dam də paʁi] ; meaning \"Cathedral of Our Lady of Paris\"), often referred to simply as Notre-Dame, is a medieval Catholic cathedral on the Île de la Cité (an island in the River Seine), in the 4th arrondissement of Paris, France. The cathedral, dedicated to the Virgin Mary (\"Our Lady\"), is considered one of the finest examples of French Gothic architecture. Several attributes set it apart from the earlier Romanesque style, including its pioneering use of the rib vault and flying buttress, its enormous and colourful rose windows, and the naturalism and abundance of its sculptural decoration. Notre-Dame is also exceptional for its three pipe organs (one historic) and its immense church bells.\n",
      "The construction of the cathedral began in 1163 under Bishop Maurice de Sully and was largely completed by 1260, though it was modified in succeeding centuries. In the 1790s, during the French Revolution, Notre-Dame suffered extensive desecration; much of its religious imagery was damaged or destroyed. In the 19th century, the cathedral hosted the coronation of Napoleon and the funerals of many of the French Republic's presidents. The 1831 publication of Victor Hugo's novel Notre-Dame de Paris (English title: The Hunchback of Notre-Dame) inspired interest which led to restoration between 1844 and 1864, supervised by Eugène Viollet-le-Duc. On 26 August 1944, the Liberation of Paris from German occupation was celebrated in Notre-Dame with the singing of the Magnificat. Beginning in 1963, the cathedral's façade was cleaned of soot and grime. Another cleaning and restoration project was carried out between 1991 and 2000. A fire in April 2019 caused serious damage, closing the cathedral for repairs; it reopened in December 2024.\n",
      "It is a widely recognised symbol of both the city of Paris and the French nation. In 1805, it was awarded honorary status as a minor basilica. As the cathedral of the archdiocese of Paris, Notre-Dame contains the cathedra or seat of the archbishop of Paris (currently Laurent Ulrich). In the early 21st century, about 12 million people visited Notre-Dame annually, making it the most visited monument in Paris. \n",
      "Over time, the cathedral has gradually been stripped of many decorations and artworks. It still contains Gothic, Baroque, and 19th-century sculptures, 17th- and early 18th-century altarpieces, and some of the most important relics in Christendom, including the crown of thorns, and a sliver and nail from the True Cross.\n",
      "\n",
      "Page: The Hunchback of Notre-Dame\n",
      "Summary: The Hunchback of Notre-Dame (French: Notre-Dame de Paris, lit. 'Our Lady of Paris', originally titled Notre-Dame de Paris. 1482) is a French Gothic novel by Victor Hugo, published in 1831. The title refers to the Notre-Dame Cathedral, which features prominently throughout the novel. It focuses on the unfortunate story of Quasimodo, the Roma street dancer Esmeralda and Quasimodo's guardian the Archdeacon Claude Frollo in 15th-century Paris. All its elements—the Renaissance setting, impossible love affairs and marginalised characters—make the work a model of the literary themes of Romanticism.\n",
      "The novel is considered a classic of French literature and has been adapted repeatedly for film, stage and television. Some prominent examples include a 1923 silent film with Lon Chaney, a 1939 sound film with Charles Laughton, a 1956 film with Anthony Quinn and a 1996 Disney animated film with Tom Hulce.\n",
      "Written during a time of cultural upheaval, the novel champions historical preservation. Hugo solidified Notre-Dame de Paris as a national icon, arguing for the preservation of Gothic architecture as an element of France's cultural heritage.\n",
      "\n",
      "\n",
      "\n",
      "Page: Notre-Dame fire\n",
      "Summary: On 15 April 2019, at 18:18 CEST, a structural fire broke out in the roof space of Notre-Dame de Paris, a medieval Catholic cathedral in Paris, France. \n",
      "The fire, which investigators believe \u001b[0m\n",
      "Thought:\u001b[32;1m\u001b[1;3m I should also use Wikipedia to find information about the fire that occurred at Notre-Dame de Paris.\n",
      "Action: Wikipedia\n",
      "Action Input: \"Notre-Dame fire\"\u001b[0m\n",
      "Observation: \u001b[36;1m\u001b[1;3mPage: Notre-Dame fire\n",
      "Summary: On 15 April 2019, at 18:18 CEST, a structural fire broke out in the roof space of Notre-Dame de Paris, a medieval Catholic cathedral in Paris, France. \n",
      "The fire, which investigators believe was started by a cigarette or an electrical short circuit, destroyed the cathedral's wooden spire (flèche) and most of the wooden roof and severely damaged the cathedral's upper walls. The vaulted stone ceiling largely contained the burning roof as it collapsed, preventing extensive damage to the interior. Many works of art and religious relics were moved to safety, but others suffered smoke damage, and some of the exterior art was damaged or destroyed. The cathedral's altar, two pipe organs, and three 13th-century rose windows suffered little or no damage. Three emergency workers were injured. The fire contaminated the site and nearby areas of Paris with toxic dust and lead. \n",
      "The cathedral was closed immediately. Two days after the blaze, French president Emmanuel Macron set a five-year deadline to restore it. Notre-Dame did not hold a Christmas Mass in 2019 for the first time since 1803. By September 2021, donors had contributed over €840 million to the rebuilding effort. \n",
      "The cathedral reopened on 7 December 2024 after three years of reconstruction.\n",
      "\n",
      "\n",
      "\n",
      "Page: Notre-Dame de Paris\n",
      "Summary: Notre-Dame de Paris (French: Cathédrale Notre-Dame de Paris French: [nɔtʁ(ə) dam də paʁi] ; meaning \"Cathedral of Our Lady of Paris\"), often referred to simply as Notre-Dame, is a medieval Catholic cathedral on the Île de la Cité (an island in the River Seine), in the 4th arrondissement of Paris, France. The cathedral, dedicated to the Virgin Mary (\"Our Lady\"), is considered one of the finest examples of French Gothic architecture. Several attributes set it apart from the earlier Romanesque style, including its pioneering use of the rib vault and flying buttress, its enormous and colourful rose windows, and the naturalism and abundance of its sculptural decoration. Notre-Dame is also exceptional for its three pipe organs (one historic) and its immense church bells.\n",
      "The construction of the cathedral began in 1163 under Bishop Maurice de Sully and was largely completed by 1260, though it was modified in succeeding centuries. In the 1790s, during the French Revolution, Notre-Dame suffered extensive desecration; much of its religious imagery was damaged or destroyed. In the 19th century, the cathedral hosted the coronation of Napoleon and the funerals of many of the French Republic's presidents. The 1831 publication of Victor Hugo's novel Notre-Dame de Paris (English title: The Hunchback of Notre-Dame) inspired interest which led to restoration between 1844 and 1864, supervised by Eugène Viollet-le-Duc. On 26 August 1944, the Liberation of Paris from German occupation was celebrated in Notre-Dame with the singing of the Magnificat. Beginning in 1963, the cathedral's façade was cleaned of soot and grime. Another cleaning and restoration project was carried out between 1991 and 2000. A fire in April 2019 caused serious damage, closing the cathedral for repairs; it reopened in December 2024.\n",
      "It is a widely recognised symbol of both the city of Paris and the French nation. In 1805, it was awarded honorary status as a minor basilica. As the cathedral of the archdiocese of Paris, Notre-Dame contains the cathedra or seat of the archbishop of Paris (currently Laurent Ulrich). In the early 21st century, about 12 million people visited Notre-Dame annually, making it the most visited monument in Paris. \n",
      "Over time, the cathedral has gradually been stripped of many decorations and artworks. It still contains Gothic, Baroque, and 19th-century sculptures, 17th- and early 18th-century altarpieces, and some of the most important relics in Christendom, including the crown of thorns, and a sliver and nail from the True Cross.\n",
      "\n",
      "Page: Notre-Dame on Fire\n",
      "Summary: Notre-Dame on Fire (French: Notre-Dame brûle) is a 2022 disaster film based on the Notre\u001b[0m\n",
      "Thought:\u001b[32;1m\u001b[1;3m I should also search for information about the fire at Notre-Dame de Paris using the Search function with specific keywords.\n",
      "Action: Search\n",
      "Action Input: \"Notre-Dame fire 2019\"\u001b[0m\n",
      "Observation: \u001b[33;1m\u001b[1;3m['On 15 April 2019, at 18:18 CEST, a structural fire broke out in the roof space of Notre-Dame de Paris, a medieval Catholic cathedral in Paris, France.', \"On April 15, 2019, a fire broke out under the eaves of Notre-Dame Cathedral's roof. The fire engulfed the spire and most of the roof. The fire began around ...\", 'Notre-Dame fire, conflagration that broke out at Notre-Dame Cathedral, Paris, on the evening of April 15, 2019, damaging the iconic landmark and garnering ...', 'On April 15th, 2019, the Notre Dame Cathedral in Paris suffered a terrible fire. In just a few hours, the spire and two-thirds of the roof collapsed.', \"Notre-Dame's transformation five years after fire. Renovation work continues after 2019's devastating fire at the iconic cathedral in Paris.\", \"The beloved Notre Dame Cathedral reopened after a devastating fire. The April 2019 blaze broke out in the church's roof space, destroying its iconic spire.\", 'PARIS — Notre-Dame cathedral, the symbol of the beauty and history of Paris, was scarred by an extensive fire on Monday evening that caused ...', 'The fire was still raging at the Notre Dame Cathedral on April 15, 2019, when French President Emmanuel Macron vowed to renovate and reconstruct the ...']\u001b[0m\n",
      "Thought:\u001b[32;1m\u001b[1;3m Based on the results, it seems like the fire occurred on April 15, 2019 and caused significant damage to the cathedral.\n",
      "Final Answer: Notre-Dame de Paris was built between 1163 and 1260, and the last restoration was completed in December 2024 after a fire on April 15, 2019 caused extensive damage.\u001b[0m\n",
      "\n",
      "\u001b[1m> Finished chain.\u001b[0m\n",
      "Notre-Dame de Paris was built between 1163 and 1260, and the last restoration was completed in December 2024 after a fire on April 15, 2019 caused extensive damage.\n"
     ]
    }
   ],
   "source": [
    "from langchain.agents import initialize_agent, Tool, AgentType\n",
    "from langchain.llms import OpenAI\n",
    "from langchain.utilities import WikipediaAPIWrapper, SerpAPIWrapper\n",
    "\n",
    "# 初始化大语言模型\n",
    "llm = OpenAI()\n",
    "\n",
    "# 定义工具列表\n",
    "tools = [\n",
    "    Tool(\n",
    "        name=\"Wikipedia\",\n",
    "        func=WikipediaAPIWrapper().run,\n",
    "        description=\"Useful for looking up information on Wikipedia.\"\n",
    "    ),\n",
    "    Tool(\n",
    "        name=\"Search\",\n",
    "        func=SerpAPIWrapper().run,\n",
    "        description=\"Useful for searching the web.\"\n",
    "    )\n",
    "]\n",
    "\n",
    "# 创建Agent\n",
    "agent = initialize_agent(tools, llm, agent=AgentType.ZERO_SHOT_REACT_DESCRIPTION, verbose=True)\n",
    "\n",
    "# 提问\n",
    "response = agent.run(\"When was Notre-Dame de Paris built and when was the last restoration completed?\")\n",
    "print(response)"
   ]
  },
  {
   "cell_type": "code",
   "execution_count": null,
   "id": "3e930ca1-9503-4fd2-a5c6-47d7d2462d4a",
   "metadata": {},
   "outputs": [],
   "source": []
  },
  {
   "cell_type": "code",
   "execution_count": null,
   "id": "c8ae1597-d990-4359-b9c8-d642d499df59",
   "metadata": {},
   "outputs": [],
   "source": []
  },
  {
   "cell_type": "code",
   "execution_count": null,
   "id": "2f98d1b6-d873-437a-ac0b-a31de024a20c",
   "metadata": {},
   "outputs": [],
   "source": []
  },
  {
   "cell_type": "code",
   "execution_count": null,
   "id": "2b49a17b-c83e-4fe1-bc2e-00dc68131be5",
   "metadata": {},
   "outputs": [],
   "source": []
  },
  {
   "cell_type": "code",
   "execution_count": null,
   "id": "8886da5d-0130-4564-b594-97b165d4716f",
   "metadata": {},
   "outputs": [],
   "source": []
  }
 ],
 "metadata": {
  "kernelspec": {
   "display_name": "rag_book",
   "language": "python",
   "name": "rag_book"
  },
  "language_info": {
   "codemirror_mode": {
    "name": "ipython",
    "version": 3
   },
   "file_extension": ".py",
   "mimetype": "text/x-python",
   "name": "python",
   "nbconvert_exporter": "python",
   "pygments_lexer": "ipython3",
   "version": "3.11.11"
  }
 },
 "nbformat": 4,
 "nbformat_minor": 5
}
