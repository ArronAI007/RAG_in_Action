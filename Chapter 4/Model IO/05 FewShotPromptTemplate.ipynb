{
 "cells": [
  {
   "cell_type": "code",
   "execution_count": 1,
   "id": "89c86943-6b62-411d-828f-09c6c8d21625",
   "metadata": {},
   "outputs": [],
   "source": [
    "from langchain.prompts import FewShotPromptTemplate, PromptTemplate"
   ]
  },
  {
   "cell_type": "code",
   "execution_count": 2,
   "id": "beeaa195-434e-4cf3-8bdb-d2a1eb4b91eb",
   "metadata": {},
   "outputs": [
    {
     "data": {
      "text/plain": [
       "True"
      ]
     },
     "execution_count": 2,
     "metadata": {},
     "output_type": "execute_result"
    }
   ],
   "source": [
    "import os\n",
    "from dotenv import load_dotenv\n",
    "\n",
    "# 加载 .env 文件中的环境变量\n",
    "load_dotenv()"
   ]
  },
  {
   "cell_type": "code",
   "execution_count": 3,
   "id": "97db32a2-32b5-4930-a3ea-ff87973e31a5",
   "metadata": {},
   "outputs": [
    {
     "name": "stdout",
     "output_type": "stream",
     "text": [
      "Question: What is the capital of France?\n",
      "Answer: Paris\n",
      "\n",
      "\n",
      "Question: What is the capital of Germany?\n",
      "Answer: Berlin\n",
      "\n",
      "\n",
      "Question: What is the capital of Italy?\n",
      "Answer: Rome\n",
      "\n",
      "\n",
      "Question: What is the capital of Spain?\n",
      "Answer:\n"
     ]
    }
   ],
   "source": [
    "# 定义示例\n",
    "examples = [\n",
    "    {\"input\": \"What is the capital of France?\", \"output\": \"Paris\"},\n",
    "    {\"input\": \"What is the capital of Germany?\", \"output\": \"Berlin\"},\n",
    "    {\"input\": \"What is the capital of Italy?\", \"output\": \"Rome\"}\n",
    "]\n",
    "\n",
    "# 创建示例提示模板\n",
    "example_prompt = PromptTemplate(\n",
    "    input_variables=[\"input\", \"output\"],\n",
    "    template=\"Question: {input}\\nAnswer: {output}\\n\"\n",
    ")\n",
    "\n",
    "# 创建 FewShotPromptTemplate\n",
    "few_shot_prompt = FewShotPromptTemplate(\n",
    "    examples=examples,\n",
    "    example_prompt=example_prompt,\n",
    "    suffix=\"Question: {input}\\nAnswer:\",\n",
    "    input_variables=[\"input\"]\n",
    ")\n",
    "\n",
    "# 格式化提示\n",
    "formatted_prompt = few_shot_prompt.format(input=\"What is the capital of Spain?\")\n",
    "print(formatted_prompt)"
   ]
  },
  {
   "cell_type": "code",
   "execution_count": null,
   "id": "586fe9f2-683d-430e-9286-b2da7f77c9e7",
   "metadata": {},
   "outputs": [],
   "source": []
  }
 ],
 "metadata": {
  "kernelspec": {
   "display_name": "rag_book",
   "language": "python",
   "name": "rag_book"
  },
  "language_info": {
   "codemirror_mode": {
    "name": "ipython",
    "version": 3
   },
   "file_extension": ".py",
   "mimetype": "text/x-python",
   "name": "python",
   "nbconvert_exporter": "python",
   "pygments_lexer": "ipython3",
   "version": "3.11.11"
  }
 },
 "nbformat": 4,
 "nbformat_minor": 5
}
