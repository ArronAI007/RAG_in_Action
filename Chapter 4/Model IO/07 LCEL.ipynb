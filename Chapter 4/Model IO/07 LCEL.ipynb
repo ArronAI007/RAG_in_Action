{
 "cells": [
  {
   "cell_type": "code",
   "execution_count": 1,
   "id": "71a5864b-26c6-4406-8484-4c5c96060d51",
   "metadata": {},
   "outputs": [],
   "source": [
    "from langchain.output_parsers import PydanticOutputParser\n",
    "from pydantic import BaseModel, Field, validator\n",
    "from langchain.prompts import PromptTemplate\n",
    "from langchain_openai import OpenAI"
   ]
  },
  {
   "cell_type": "code",
   "execution_count": 2,
   "id": "f915b1a2-c4d6-40ca-afee-e5a80f89fe29",
   "metadata": {},
   "outputs": [
    {
     "data": {
      "text/plain": [
       "True"
      ]
     },
     "execution_count": 2,
     "metadata": {},
     "output_type": "execute_result"
    }
   ],
   "source": [
    "import os\n",
    "from dotenv import load_dotenv\n",
    "\n",
    "# 加载 .env 文件中的环境变量\n",
    "load_dotenv()"
   ]
  },
  {
   "cell_type": "code",
   "execution_count": 3,
   "id": "7dd3dc3c-fb67-4d75-8970-d51532b9e352",
   "metadata": {},
   "outputs": [
    {
     "name": "stderr",
     "output_type": "stream",
     "text": [
      "/var/folders/rq/kthvngcn3r769fzgn106ymd00000gn/T/ipykernel_35694/2000046976.py:7: PydanticDeprecatedSince20: Pydantic V1 style `@validator` validators are deprecated. You should migrate to Pydantic V2 style `@field_validator` validators, see the migration guide for more details. Deprecated in Pydantic V2.0 to be removed in V3.0. See Pydantic V2 Migration Guide at https://errors.pydantic.dev/2.10/migration/\n",
      "  @validator('setup')\n"
     ]
    },
    {
     "data": {
      "text/plain": [
       "Joke(setup='Why did the tomato turn red?', punchline='Because it saw the salad dressing!')"
      ]
     },
     "execution_count": 3,
     "metadata": {},
     "output_type": "execute_result"
    }
   ],
   "source": [
    "# 定义期望的数据结构\n",
    "class Joke(BaseModel):\n",
    "    setup: str = Field(description=\"question to set up a joke\")\n",
    "    punchline: str = Field(description=\"answer to resolve the joke\")\n",
    "\n",
    "    # 添加自定义验证逻辑\n",
    "    @validator('setup')\n",
    "    def question_ends_with_question_mark(cls, value: str) -> str:\n",
    "        if not value.endswith('?'):\n",
    "            raise ValueError(\"Badly formed question! It should end with a question mark.\")\n",
    "        return value\n",
    "\n",
    "# 创建解析器实例\n",
    "parser = PydanticOutputParser(pydantic_object=Joke)\n",
    "\n",
    "# 创建提示模板\n",
    "prompt = PromptTemplate(\n",
    "    template=\"Answer the user query.\\n{format_instructions}\\n{query}\\n\",\n",
    "    input_variables=[\"query\"],\n",
    "    partial_variables={\"format_instructions\": parser.get_format_instructions()}\n",
    ")\n",
    "\n",
    "# 创建模型实例\n",
    "llm = OpenAI(temperature = 0.0)\n",
    "\n",
    "# 使用LCEL调用模型并解析输出\n",
    "chain = prompt | llm | parser\n",
    "chain.invoke(\"Tell me a joke.\")"
   ]
  }
 ],
 "metadata": {
  "kernelspec": {
   "display_name": "rag_book",
   "language": "python",
   "name": "rag_book"
  },
  "language_info": {
   "codemirror_mode": {
    "name": "ipython",
    "version": 3
   },
   "file_extension": ".py",
   "mimetype": "text/x-python",
   "name": "python",
   "nbconvert_exporter": "python",
   "pygments_lexer": "ipython3",
   "version": "3.11.11"
  }
 },
 "nbformat": 4,
 "nbformat_minor": 5
}
