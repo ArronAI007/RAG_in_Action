{
 "cells": [
  {
   "cell_type": "markdown",
   "id": "e16f8ea2-7fd9-4fd0-854c-e4e61b3b84bf",
   "metadata": {},
   "source": [
    "# FAISS"
   ]
  },
  {
   "cell_type": "code",
   "execution_count": 1,
   "id": "54046581-2cfb-4b06-8130-3f2bbf038eec",
   "metadata": {},
   "outputs": [
    {
     "name": "stderr",
     "output_type": "stream",
     "text": [
      "/opt/anaconda3/envs/rag_book/lib/python3.11/site-packages/tqdm/auto.py:21: TqdmWarning: IProgress not found. Please update jupyter and ipywidgets. See https://ipywidgets.readthedocs.io/en/stable/user_install.html\n",
      "  from .autonotebook import tqdm as notebook_tqdm\n"
     ]
    },
    {
     "name": "stdout",
     "output_type": "stream",
     "text": [
      "[[ 0  1  2 -1 -1]]\n"
     ]
    }
   ],
   "source": [
    "from sentence_transformers import SentenceTransformer\n",
    "import faiss\n",
    "import numpy as np\n",
    "\n",
    "\n",
    "# 假设我们有分块后的文本块\n",
    "chunks = [\"这是一个分块\", \"这是另一个分块\", \"还有一个分块\"]\n",
    "\n",
    "\n",
    "# 使用 Sentence Transformers 进行向量化\n",
    "model = SentenceTransformer('paraphrase-MiniLM-L6-v2')\n",
    "chunk_vectors = [model.encode(chunk) for chunk in chunks]\n",
    "chunk_vectors = np.array(chunk_vectors).astype('float32')\n",
    "\n",
    "\n",
    "# 构建 Faiss 索引\n",
    "dimension = chunk_vectors.shape[1]\n",
    "index = faiss.IndexFlatL2(dimension)\n",
    "index.add(chunk_vectors)\n",
    "\n",
    "\n",
    "# 假设我们有一个用户问题\n",
    "query = \"一个问题\"\n",
    "query_vector = model.encode(query).astype('float32')\n",
    "\n",
    "\n",
    "# 搜索最相似的分块\n",
    "k = 5\n",
    "distances, indices = index.search(np.array([query_vector]), k)\n",
    "print(indices)"
   ]
  },
  {
   "cell_type": "markdown",
   "id": "a9652e56-cb3a-4a5d-bbb0-5886aa322262",
   "metadata": {},
   "source": [
    "# Chroma"
   ]
  },
  {
   "cell_type": "code",
   "execution_count": 2,
   "id": "30edefd8-c023-4b14-916a-dbf6e37c95ed",
   "metadata": {},
   "outputs": [
    {
     "name": "stderr",
     "output_type": "stream",
     "text": [
      "/var/folders/rq/kthvngcn3r769fzgn106ymd00000gn/T/ipykernel_95979/2638996914.py:20: LangChainDeprecationWarning: The class `HuggingFaceEmbeddings` was deprecated in LangChain 0.2.2 and will be removed in 1.0. An updated version of the class exists in the :class:`~langchain-huggingface package and should be used instead. To use it run `pip install -U :class:`~langchain-huggingface` and import as `from :class:`~langchain_huggingface import HuggingFaceEmbeddings``.\n",
      "  embeddings = SentenceTransformerEmbeddings(model_name=\"paraphrase-MiniLM-L6-v2\")\n"
     ]
    },
    {
     "name": "stdout",
     "output_type": "stream",
     "text": [
      "[Document(metadata={}, page_content='对其进行处理。首先将其分块，然后将分块向量化存储在 Chroma 中。'), Document(metadata={}, page_content='对其进行处理。首先将其分块，然后将分块向量化存储在 Chroma 中。')]\n"
     ]
    },
    {
     "name": "stderr",
     "output_type": "stream",
     "text": [
      "/var/folders/rq/kthvngcn3r769fzgn106ymd00000gn/T/ipykernel_95979/2638996914.py:32: LangChainDeprecationWarning: Since Chroma 0.4.x the manual persistence method is no longer supported as docs are automatically persisted.\n",
      "  vectorstore.persist()\n"
     ]
    }
   ],
   "source": [
    "from langchain.vectorstores import Chroma\n",
    "from langchain.embeddings import SentenceTransformerEmbeddings\n",
    "from langchain.text_splitter import CharacterTextSplitter\n",
    "\n",
    "\n",
    "# 假设我们有一段长文本\n",
    "text = \"这是一段很长的文本，我们将使用 Chroma 和 Langchain 对其进行处理。首先将其分块，然后将分块向量化存储在 Chroma 中。\"\n",
    "\n",
    "\n",
    "# 分块\n",
    "text_splitter = CharacterTextSplitter(\n",
    "    separator=\" \",\n",
    "    chunk_size=50,\n",
    "    chunk_overlap=0\n",
    ")\n",
    "chunks = text_splitter.split_text(text)\n",
    "\n",
    "\n",
    "# 向量化\n",
    "embeddings = SentenceTransformerEmbeddings(model_name=\"paraphrase-MiniLM-L6-v2\")\n",
    "\n",
    "\n",
    "# 创建 Chroma 存储\n",
    "vectorstore = Chroma.from_texts(\n",
    "    texts=chunks,\n",
    "    embedding=embeddings,\n",
    "    persist_directory=\".chromadb\"\n",
    ")\n",
    "\n",
    "\n",
    "# 持久化存储\n",
    "vectorstore.persist()\n",
    "\n",
    "\n",
    "# 检索\n",
    "results = vectorstore.similarity_search(\"查询问题\", k=2)\n",
    "print(results)"
   ]
  },
  {
   "cell_type": "markdown",
   "id": "d5dc59c7-09bf-4f3b-9dc5-6e8b842cf950",
   "metadata": {},
   "source": [
    "# Milvus\n",
    "注意：关于milvus代码运行需要在python脚本中独立运行，读者可以把如下单元格的代码粘贴到python脚本中运行"
   ]
  },
  {
   "cell_type": "code",
   "execution_count": 3,
   "id": "1334fdf9-1f01-4646-a74b-6c5ea9801e74",
   "metadata": {},
   "outputs": [],
   "source": [
    "from pymilvus import connections, FieldSchema, CollectionSchema, DataType, Collection, utility\n",
    "from sentence_transformers import SentenceTransformer\n",
    "\n",
    "\n",
    "# 连接 Milvus 服务\n",
    "connections.connect(host='localhost', port='19530')\n",
    "\n",
    "\n",
    "# 定义集合的字段\n",
    "fields = [\n",
    "    FieldSchema(name='id', dtype=DataType.INT64, is_primary=True, auto_id=True),\n",
    "    FieldSchema(name='vector', dtype=DataType.FLOAT_VECTOR, dim=384)\n",
    "]\n",
    "schema = CollectionSchema(fields=fields)\n",
    "\n",
    "\n",
    "# 创建集合\n",
    "collection = Collection(name='text_vectors', schema=schema)\n",
    "\n",
    "\n",
    "# 假设我们有分块后的文本块\n",
    "chunks = [\"这是一个分块\", \"这是另一个分块\", \"还有一个分块\"]\n",
    "\n",
    "\n",
    "# 使用 Sentence Transformers 进行向量化\n",
    "model = SentenceTransformer('paraphrase-MiniLM-L6-v2')\n",
    "chunk_vectors = [model.encode(chunk) for chunk in chunks]\n",
    "\n",
    "\n",
    "# 插入向量到集合\n",
    "data = [\n",
    "    [vector.tolist()] for vector in chunk_vectors\n",
    "]\n",
    "collection.insert(data)\n",
    "\n",
    "\n",
    "# 构建索引\n",
    "index_params = {\n",
    "    'metric_type': 'L2',\n",
    "    'index_type': 'IVF_FLAT',\n",
    "    'params': {\"nlist\": 128}\n",
    "}\n",
    "collection.create_index(field_name=\"vector\", index_params=index_params)\n",
    "\n",
    "\n",
    "# 假设我们有一个用户问题\n",
    "query = \"一个问题\"\n",
    "query_vector = model.encode(query)\n",
    "\n",
    "\n",
    "# 搜索最相似的分块\n",
    "search_params = {\"metric_type\": \"L2\", \"params\": {\"nprobe\": 10}}\n",
    "results = collection.search(\n",
    "    data=[query_vector],\n",
    "    anns_field=\"vector\",\n",
    "    param=search_params,\n",
    "    limit=5\n",
    ")\n",
    "print(results)"
   ]
  }
 ],
 "metadata": {
  "kernelspec": {
   "display_name": "rag_book",
   "language": "python",
   "name": "rag_book"
  },
  "language_info": {
   "codemirror_mode": {
    "name": "ipython",
    "version": 3
   },
   "file_extension": ".py",
   "mimetype": "text/x-python",
   "name": "python",
   "nbconvert_exporter": "python",
   "pygments_lexer": "ipython3",
   "version": "3.11.11"
  }
 },
 "nbformat": 4,
 "nbformat_minor": 5
}
