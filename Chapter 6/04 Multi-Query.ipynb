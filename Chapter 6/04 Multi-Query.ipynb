{
 "cells": [
  {
   "cell_type": "code",
   "execution_count": null,
   "id": "b2246a6f-f215-46b5-95e0-0eaecfa83e92",
   "metadata": {},
   "outputs": [],
   "source": []
  },
  {
   "cell_type": "code",
   "execution_count": null,
   "id": "67d40cf6-4a83-4111-93c1-c758151af30c",
   "metadata": {},
   "outputs": [],
   "source": [
    "import os\n",
    "from dotenv import load_dotenv\n",
    "\n",
    "# 加载 .env 文件中的OpenAI API环境变量\n",
    "load_dotenv()"
   ]
  },
  {
   "cell_type": "code",
   "execution_count": null,
   "id": "5327f06d-81c0-4653-89a4-302a4de7ccd5",
   "metadata": {},
   "outputs": [],
   "source": [
    "import os\n",
    "from langchain.llms import OpenAI\n",
    "from langchain.chains import LLMChain\n",
    "from langchain.prompts import PromptTemplate\n",
    "from langchain.document_loaders import TextLoader\n",
    "from langchain.text_splitter import CharacterTextSplitter\n",
    "from langchain.embeddings import OpenAIEmbeddings\n",
    "from langchain.vectorstores import FAISS"
   ]
  },
  {
   "cell_type": "code",
   "execution_count": null,
   "id": "a20627be-d170-4094-a291-54eb81056958",
   "metadata": {},
   "outputs": [],
   "source": [
    "# 设置OpenAI API密钥\n",
    "os.environ[\"OPENAI_API_KEY\"] = \"your_openai_api_key\"\n",
    "\n",
    "# 加载文档\n",
    "def load_documents(file_path):\n",
    "    loader = TextLoader(file_path)\n",
    "    documents = loader.load()\n",
    "    text_splitter = CharacterTextSplitter(chunk_size=1000, chunk_overlap=0)\n",
    "    docs = text_splitter.split_documents(documents)\n",
    "    return docs\n",
    "\n",
    "# 创建向量数据库\n",
    "def create_vectorstore(docs):\n",
    "    embeddings = OpenAIEmbeddings()\n",
    "    vectorstore = FAISS.from_documents(docs, embeddings)\n",
    "    return vectorstore\n",
    "\n",
    "# 生成多个查询\n",
    "def generate_multi_queries(llm, original_query):\n",
    "    prompt_template = \"\"\"\n",
    "    请根据以下查询生成3个语义相近但表述不同的查询：\n",
    "    {original_query}\n",
    "    \"\"\"\n",
    "    prompt = PromptTemplate(input_variables=[\"original_query\"], template=prompt_template)\n",
    "    chain = LLMChain(llm=llm, prompt=prompt)\n",
    "    result = chain.run(original_query=original_query)\n",
    "    queries = result.strip().split('\\n')\n",
    "    return queries\n",
    "\n",
    "# 多查询检索\n",
    "def multi_query_retrieval(vectorstore, queries):\n",
    "    all_results = []\n",
    "    for query in queries:\n",
    "        results = vectorstore.similarity_search(query)\n",
    "        all_results.extend(results)\n",
    "    # 简单去重（实际应用中可根据需求优化）\n",
    "    unique_results = []\n",
    "    for result in all_results:\n",
    "        if result not in unique_results:\n",
    "            unique_results.append(result)\n",
    "    return unique_results\n",
    "\n",
    "# 主函数\n",
    "def main():\n",
    "    # 加载文档\n",
    "    file_path = \"example.txt\"\n",
    "    docs = load_documents(file_path)\n",
    "    # 创建向量数据库\n",
    "    vectorstore = create_vectorstore(docs)\n",
    "    # 初始化语言模型\n",
    "    llm = OpenAI()\n",
    "    # 原始查询\n",
    "    original_query = \"请介绍苹果公司的创新成果\"\n",
    "    # 生成多个查询\n",
    "    queries = generate_multi_queries(llm, original_query)\n",
    "    print(\"生成的查询：\", queries)\n",
    "    # 多查询检索\n",
    "    results = multi_query_retrieval(vectorstore, queries)\n",
    "    print(\"检索结果数量：\", len(results))\n",
    "    for result in results:\n",
    "        print(result.page_content[:100])  # 打印结果的前100个字符\n",
    "\n",
    "if __name__ == \"__main__\":\n",
    "    main()"
   ]
  },
  {
   "cell_type": "code",
   "execution_count": null,
   "id": "fe7bf6b4-4b44-498c-91b2-3335700987f3",
   "metadata": {},
   "outputs": [],
   "source": []
  }
 ],
 "metadata": {
  "kernelspec": {
   "display_name": "rag_book",
   "language": "python",
   "name": "rag_book"
  },
  "language_info": {
   "codemirror_mode": {
    "name": "ipython",
    "version": 3
   },
   "file_extension": ".py",
   "mimetype": "text/x-python",
   "name": "python",
   "nbconvert_exporter": "python",
   "pygments_lexer": "ipython3",
   "version": "3.11.11"
  }
 },
 "nbformat": 4,
 "nbformat_minor": 5
}
