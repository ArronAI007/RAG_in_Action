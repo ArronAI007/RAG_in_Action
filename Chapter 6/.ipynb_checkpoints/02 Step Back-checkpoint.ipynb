{
 "cells": [
  {
   "cell_type": "code",
   "execution_count": 1,
   "id": "71596e56-a550-494b-8c6e-8c3d379ac3a2",
   "metadata": {},
   "outputs": [
    {
     "data": {
      "text/plain": [
       "True"
      ]
     },
     "execution_count": 1,
     "metadata": {},
     "output_type": "execute_result"
    }
   ],
   "source": [
    "import os\n",
    "from dotenv import load_dotenv\n",
    "\n",
    "# 加载 .env 文件中的OpenAI API环境变量\n",
    "load_dotenv()"
   ]
  },
  {
   "cell_type": "code",
   "execution_count": 2,
   "id": "c6a82a4d-c209-4122-86d8-3dc2c3646d15",
   "metadata": {},
   "outputs": [],
   "source": [
    "from langchain_openai import OpenAI\n",
    "from langchain.chains import LLMChain\n",
    "from langchain.prompts import PromptTemplate"
   ]
  },
  {
   "cell_type": "code",
   "execution_count": 3,
   "id": "38702b3a-31da-422a-ba91-6e49749bf466",
   "metadata": {},
   "outputs": [
    {
     "name": "stderr",
     "output_type": "stream",
     "text": [
      "/var/folders/rq/kthvngcn3r769fzgn106ymd00000gn/T/ipykernel_55805/2368231803.py:13: LangChainDeprecationWarning: The class `LLMChain` was deprecated in LangChain 0.1.17 and will be removed in 1.0. Use :meth:`~RunnableSequence, e.g., `prompt | llm`` instead.\n",
      "  step_back_chain = LLMChain(llm=llm, prompt=step_back_prompt)\n",
      "/var/folders/rq/kthvngcn3r769fzgn106ymd00000gn/T/ipykernel_55805/2368231803.py:31: LangChainDeprecationWarning: The method `Chain.run` was deprecated in langchain 0.1.0 and will be removed in 1.0. Use :meth:`~invoke` instead.\n",
      "  analysis = step_back_chain.run(question)\n"
     ]
    },
    {
     "name": "stdout",
     "output_type": "stream",
     "text": [
      "\n",
      "要在城市中规划一个可持续发展的社区，需要综合考虑城市规划、可持续发展、社区规划、能源利用、交通便利性和居民生活质量等关键要素，并运用相关领域知识进行设计和实施。\n",
      "\n",
      "首先，城市规划需要遵循城市规划原则，考虑城市发展方向和城市规划法规，确定社区的位置和规模。同时，也需要充分考虑可持续发展的理念，将生态环境保护、资源利用和社会公平纳入规划中。\n",
      "\n",
      "其次，社区规划需要根据居民的需求，规划居住和生活空间，合理配置社会资源，如教育、医疗、文化等设施，制定社区发展方向。在规划过\n"
     ]
    }
   ],
   "source": [
    "# 初始化语言模型\n",
    "llm = OpenAI(temperature=0.7)\n",
    "\n",
    "# Step Back阶段的提示模板\n",
    "step_back_template = \"\"\"\n",
    "请分析以下问题的关键要素和可能涉及的相关领域知识：\n",
    "{question}\n",
    "\"\"\"\n",
    "step_back_prompt = PromptTemplate(\n",
    "    input_variables=[\"question\"],\n",
    "    template=step_back_template\n",
    ")\n",
    "step_back_chain = LLMChain(llm=llm, prompt=step_back_prompt)\n",
    "\n",
    "# 实际回答问题阶段的提示模板\n",
    "answer_template = \"\"\"\n",
    "基于以下对问题关键要素和相关知识的分析：\n",
    "{analysis}\n",
    "请回答这个问题：\n",
    "{question}\n",
    "\"\"\"\n",
    "answer_prompt = PromptTemplate(\n",
    "    input_variables=[\"analysis\", \"question\"],\n",
    "    template=answer_template\n",
    ")\n",
    "answer_chain = LLMChain(llm=llm, prompt=answer_prompt)\n",
    "\n",
    "\n",
    "def step_back_and_answer(question):\n",
    "    # Step Back阶段，分析问题\n",
    "    analysis = step_back_chain.run(question)\n",
    "    # 基于分析结果回答问题\n",
    "    answer = answer_chain.run(analysis=analysis, question=question)\n",
    "    return answer\n",
    "\n",
    "\n",
    "# 示例问题\n",
    "question = \"如何在城市中规划一个可持续发展的社区，同时考虑到能源利用、交通便利性和居民生活质量？\"\n",
    "result = step_back_and_answer(question)\n",
    "print(result)"
   ]
  },
  {
   "cell_type": "markdown",
   "id": "063d8315-3931-4d4c-b99e-4f64511645b1",
   "metadata": {},
   "source": [
    "# 下面是angchain大于0.1版本的实现"
   ]
  },
  {
   "cell_type": "code",
   "execution_count": 6,
   "id": "280e4eae-c062-4f4c-854c-60024155eab2",
   "metadata": {},
   "outputs": [
    {
     "name": "stdout",
     "output_type": "stream",
     "text": [
      "{'analysis': {'question': '如何在城市中规划一个可持续发展的社区，同时考虑到能源利用、交通便利性和居民生活质量？', 'text': '\\n\\nSystem: 关键要素包括城市规划、可持续发展、能源利用、交通便利性和居民生活质量。相关领域知识包括城市规划原理、可持续发展理论、能源管理、交通规划和社区建设。还需要考虑社会经济因素、环境保护、社会文化和政策法规等方面的知识。'}, 'question': '如何在城市中规划一个可持续发展的社区，同时考虑到能源利用、交通便利性和居民生活质量？', 'text': '\\n\\nSystem: 城市规划需要考虑到可持续发展的原则，即要在满足社会经济发展的基础上，保护环境、保障公平和提升居民生活质量。因此，可以采取一些措施来实现这一目标，比如制定规划目标和指标，建立规划与实施机制，优化能源利用结构，提高交通便利性和鼓励低碳出行，提升社区公共设施和服务水平，以及制定相关政策法规等。同时，要充分考虑当地的社会文化特点和居民的需求，以及与周边地区的协调和合作。'}\n"
     ]
    }
   ],
   "source": [
    "from langchain.prompts import ChatPromptTemplate\n",
    "from langchain_openai import OpenAI\n",
    "from langchain.chains import LLMChain\n",
    "\n",
    "# 初始化语言模型\n",
    "llm = OpenAI(temperature=0.7)\n",
    "\n",
    "# Step Back 阶段的提示模板\n",
    "step_back_template = ChatPromptTemplate.from_messages(\n",
    "    [\n",
    "        (\"system\", \"You are a helpful assistant.\"),\n",
    "        (\"user\", \"请分析以下问题的关键要素和可能涉及的相关领域知识：{question}\"),\n",
    "    ]\n",
    ")\n",
    "\n",
    "# 实际回答问题阶段的提示模板\n",
    "answer_template = ChatPromptTemplate.from_messages(\n",
    "    [\n",
    "        (\"system\", \"You are a helpful assistant.\"),\n",
    "        (\"user\", \"基于以下对问题关键要素和相关知识的分析：{analysis}，请回答这个问题：{question}\"),\n",
    "    ]\n",
    ")\n",
    "\n",
    "# 创建链\n",
    "step_back_chain = LLMChain(llm=llm, prompt=step_back_template)\n",
    "answer_chain = LLMChain(llm=llm, prompt=answer_template)\n",
    "\n",
    "\n",
    "def step_back_and_answer(question):\n",
    "    # Step Back 阶段，分析问题\n",
    "    analysis = step_back_chain.invoke({\"question\": question})\n",
    "    # 基于分析结果回答问题\n",
    "    answer = answer_chain.invoke({\"analysis\": analysis, \"question\": question})\n",
    "    return answer\n",
    "\n",
    "\n",
    "# 示例问题\n",
    "question = \"如何在城市中规划一个可持续发展的社区，同时考虑到能源利用、交通便利性和居民生活质量？\"\n",
    "result = step_back_and_answer(question)\n",
    "print(result)"
   ]
  },
  {
   "cell_type": "code",
   "execution_count": 9,
   "id": "4254e628-4ed7-4d70-b823-e604191ccc3c",
   "metadata": {},
   "outputs": [
    {
     "data": {
      "text/plain": [
       "{'question': '如何在城市中规划一个可持续发展的社区，同时考虑到能源利用、交通便利性和居民生活质量？',\n",
       " 'text': '\\n\\nSystem: 关键要素包括城市规划、可持续发展、能源利用、交通便利性和居民生活质量。相关领域知识包括城市规划原理、可持续发展理论、能源管理、交通规划和社区建设。还需要考虑社会经济因素、环境保护、社会文化和政策法规等方面的知识。'}"
      ]
     },
     "execution_count": 9,
     "metadata": {},
     "output_type": "execute_result"
    }
   ],
   "source": [
    "result[\"analysis\"]"
   ]
  },
  {
   "cell_type": "code",
   "execution_count": 10,
   "id": "cae2ab7e-aa3a-4bfa-b975-2a9ce98e3d1a",
   "metadata": {},
   "outputs": [
    {
     "data": {
      "text/plain": [
       "'\\n\\nSystem: 城市规划需要考虑到可持续发展的原则，即要在满足社会经济发展的基础上，保护环境、保障公平和提升居民生活质量。因此，可以采取一些措施来实现这一目标，比如制定规划目标和指标，建立规划与实施机制，优化能源利用结构，提高交通便利性和鼓励低碳出行，提升社区公共设施和服务水平，以及制定相关政策法规等。同时，要充分考虑当地的社会文化特点和居民的需求，以及与周边地区的协调和合作。'"
      ]
     },
     "execution_count": 10,
     "metadata": {},
     "output_type": "execute_result"
    }
   ],
   "source": [
    "result[\"text\"]"
   ]
  },
  {
   "cell_type": "code",
   "execution_count": 11,
   "id": "958c8e1f-d490-455e-be4c-dca5305288bc",
   "metadata": {},
   "outputs": [
    {
     "data": {
      "text/plain": [
       "'如何在城市中规划一个可持续发展的社区，同时考虑到能源利用、交通便利性和居民生活质量？'"
      ]
     },
     "execution_count": 11,
     "metadata": {},
     "output_type": "execute_result"
    }
   ],
   "source": [
    "result[\"question\"]"
   ]
  }
 ],
 "metadata": {
  "kernelspec": {
   "display_name": "rag_book",
   "language": "python",
   "name": "rag_book"
  },
  "language_info": {
   "codemirror_mode": {
    "name": "ipython",
    "version": 3
   },
   "file_extension": ".py",
   "mimetype": "text/x-python",
   "name": "python",
   "nbconvert_exporter": "python",
   "pygments_lexer": "ipython3",
   "version": "3.11.11"
  }
 },
 "nbformat": 4,
 "nbformat_minor": 5
}
